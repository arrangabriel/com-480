{
 "cells": [
  {
   "cell_type": "code",
   "execution_count": 3,
   "metadata": {
    "ExecuteTime": {
     "end_time": "2024-03-19T09:27:08.474488Z",
     "start_time": "2024-03-19T09:27:08.468345Z"
    }
   },
   "outputs": [],
   "source": [
    "import pandas as pd\n",
    "import numpy as np\n",
    "from pathlib import Path\n",
    "import json\n",
    "\n",
    "DATA_DIR = Path(\"datasets\")\n",
    "EVENTS_DIR = DATA_DIR.joinpath(\"events\")\n",
    "TRANSFERS_DIR = DATA_DIR.joinpath(\"transfers\")"
   ]
  },
  {
   "cell_type": "markdown",
   "metadata": {},
   "source": [
    "# Explore the [events](https://www.kaggle.com/datasets/secareanualin/football-events/data) dataset"
   ]
  },
  {
   "cell_type": "code",
   "execution_count": 4,
   "metadata": {
    "ExecuteTime": {
     "end_time": "2024-03-19T09:27:08.729674Z",
     "start_time": "2024-03-19T09:27:08.626133Z"
    }
   },
   "outputs": [
    {
     "ename": "FileNotFoundError",
     "evalue": "[Errno 2] No such file or directory: 'datasets/events/events.csv'",
     "output_type": "error",
     "traceback": [
      "\u001B[0;31m---------------------------------------------------------------------------\u001B[0m",
      "\u001B[0;31mFileNotFoundError\u001B[0m                         Traceback (most recent call last)",
      "Cell \u001B[0;32mIn[4], line 1\u001B[0m\n\u001B[0;32m----> 1\u001B[0m events_df \u001B[38;5;241m=\u001B[39m pd\u001B[38;5;241m.\u001B[39mread_csv(EVENTS_DIR\u001B[38;5;241m.\u001B[39mjoinpath(\u001B[38;5;124m\"\u001B[39m\u001B[38;5;124mevents.csv\u001B[39m\u001B[38;5;124m\"\u001B[39m))\n\u001B[1;32m      2\u001B[0m game_info_df \u001B[38;5;241m=\u001B[39m pd\u001B[38;5;241m.\u001B[39mread_csv(EVENTS_DIR\u001B[38;5;241m.\u001B[39mjoinpath(\u001B[38;5;124m\"\u001B[39m\u001B[38;5;124mginf.csv\u001B[39m\u001B[38;5;124m\"\u001B[39m))\n\u001B[1;32m      3\u001B[0m dictionary \u001B[38;5;241m=\u001B[39m json\u001B[38;5;241m.\u001B[39mload(\u001B[38;5;28mopen\u001B[39m(EVENTS_DIR\u001B[38;5;241m.\u001B[39mjoinpath(\u001B[38;5;124m\"\u001B[39m\u001B[38;5;124mdictionary.json\u001B[39m\u001B[38;5;124m\"\u001B[39m)))\n",
      "File \u001B[0;32m~/anaconda3/lib/python3.11/site-packages/pandas/io/parsers/readers.py:912\u001B[0m, in \u001B[0;36mread_csv\u001B[0;34m(filepath_or_buffer, sep, delimiter, header, names, index_col, usecols, dtype, engine, converters, true_values, false_values, skipinitialspace, skiprows, skipfooter, nrows, na_values, keep_default_na, na_filter, verbose, skip_blank_lines, parse_dates, infer_datetime_format, keep_date_col, date_parser, date_format, dayfirst, cache_dates, iterator, chunksize, compression, thousands, decimal, lineterminator, quotechar, quoting, doublequote, escapechar, comment, encoding, encoding_errors, dialect, on_bad_lines, delim_whitespace, low_memory, memory_map, float_precision, storage_options, dtype_backend)\u001B[0m\n\u001B[1;32m    899\u001B[0m kwds_defaults \u001B[38;5;241m=\u001B[39m _refine_defaults_read(\n\u001B[1;32m    900\u001B[0m     dialect,\n\u001B[1;32m    901\u001B[0m     delimiter,\n\u001B[0;32m   (...)\u001B[0m\n\u001B[1;32m    908\u001B[0m     dtype_backend\u001B[38;5;241m=\u001B[39mdtype_backend,\n\u001B[1;32m    909\u001B[0m )\n\u001B[1;32m    910\u001B[0m kwds\u001B[38;5;241m.\u001B[39mupdate(kwds_defaults)\n\u001B[0;32m--> 912\u001B[0m \u001B[38;5;28;01mreturn\u001B[39;00m _read(filepath_or_buffer, kwds)\n",
      "File \u001B[0;32m~/anaconda3/lib/python3.11/site-packages/pandas/io/parsers/readers.py:577\u001B[0m, in \u001B[0;36m_read\u001B[0;34m(filepath_or_buffer, kwds)\u001B[0m\n\u001B[1;32m    574\u001B[0m _validate_names(kwds\u001B[38;5;241m.\u001B[39mget(\u001B[38;5;124m\"\u001B[39m\u001B[38;5;124mnames\u001B[39m\u001B[38;5;124m\"\u001B[39m, \u001B[38;5;28;01mNone\u001B[39;00m))\n\u001B[1;32m    576\u001B[0m \u001B[38;5;66;03m# Create the parser.\u001B[39;00m\n\u001B[0;32m--> 577\u001B[0m parser \u001B[38;5;241m=\u001B[39m TextFileReader(filepath_or_buffer, \u001B[38;5;241m*\u001B[39m\u001B[38;5;241m*\u001B[39mkwds)\n\u001B[1;32m    579\u001B[0m \u001B[38;5;28;01mif\u001B[39;00m chunksize \u001B[38;5;129;01mor\u001B[39;00m iterator:\n\u001B[1;32m    580\u001B[0m     \u001B[38;5;28;01mreturn\u001B[39;00m parser\n",
      "File \u001B[0;32m~/anaconda3/lib/python3.11/site-packages/pandas/io/parsers/readers.py:1407\u001B[0m, in \u001B[0;36mTextFileReader.__init__\u001B[0;34m(self, f, engine, **kwds)\u001B[0m\n\u001B[1;32m   1404\u001B[0m     \u001B[38;5;28mself\u001B[39m\u001B[38;5;241m.\u001B[39moptions[\u001B[38;5;124m\"\u001B[39m\u001B[38;5;124mhas_index_names\u001B[39m\u001B[38;5;124m\"\u001B[39m] \u001B[38;5;241m=\u001B[39m kwds[\u001B[38;5;124m\"\u001B[39m\u001B[38;5;124mhas_index_names\u001B[39m\u001B[38;5;124m\"\u001B[39m]\n\u001B[1;32m   1406\u001B[0m \u001B[38;5;28mself\u001B[39m\u001B[38;5;241m.\u001B[39mhandles: IOHandles \u001B[38;5;241m|\u001B[39m \u001B[38;5;28;01mNone\u001B[39;00m \u001B[38;5;241m=\u001B[39m \u001B[38;5;28;01mNone\u001B[39;00m\n\u001B[0;32m-> 1407\u001B[0m \u001B[38;5;28mself\u001B[39m\u001B[38;5;241m.\u001B[39m_engine \u001B[38;5;241m=\u001B[39m \u001B[38;5;28mself\u001B[39m\u001B[38;5;241m.\u001B[39m_make_engine(f, \u001B[38;5;28mself\u001B[39m\u001B[38;5;241m.\u001B[39mengine)\n",
      "File \u001B[0;32m~/anaconda3/lib/python3.11/site-packages/pandas/io/parsers/readers.py:1661\u001B[0m, in \u001B[0;36mTextFileReader._make_engine\u001B[0;34m(self, f, engine)\u001B[0m\n\u001B[1;32m   1659\u001B[0m     \u001B[38;5;28;01mif\u001B[39;00m \u001B[38;5;124m\"\u001B[39m\u001B[38;5;124mb\u001B[39m\u001B[38;5;124m\"\u001B[39m \u001B[38;5;129;01mnot\u001B[39;00m \u001B[38;5;129;01min\u001B[39;00m mode:\n\u001B[1;32m   1660\u001B[0m         mode \u001B[38;5;241m+\u001B[39m\u001B[38;5;241m=\u001B[39m \u001B[38;5;124m\"\u001B[39m\u001B[38;5;124mb\u001B[39m\u001B[38;5;124m\"\u001B[39m\n\u001B[0;32m-> 1661\u001B[0m \u001B[38;5;28mself\u001B[39m\u001B[38;5;241m.\u001B[39mhandles \u001B[38;5;241m=\u001B[39m get_handle(\n\u001B[1;32m   1662\u001B[0m     f,\n\u001B[1;32m   1663\u001B[0m     mode,\n\u001B[1;32m   1664\u001B[0m     encoding\u001B[38;5;241m=\u001B[39m\u001B[38;5;28mself\u001B[39m\u001B[38;5;241m.\u001B[39moptions\u001B[38;5;241m.\u001B[39mget(\u001B[38;5;124m\"\u001B[39m\u001B[38;5;124mencoding\u001B[39m\u001B[38;5;124m\"\u001B[39m, \u001B[38;5;28;01mNone\u001B[39;00m),\n\u001B[1;32m   1665\u001B[0m     compression\u001B[38;5;241m=\u001B[39m\u001B[38;5;28mself\u001B[39m\u001B[38;5;241m.\u001B[39moptions\u001B[38;5;241m.\u001B[39mget(\u001B[38;5;124m\"\u001B[39m\u001B[38;5;124mcompression\u001B[39m\u001B[38;5;124m\"\u001B[39m, \u001B[38;5;28;01mNone\u001B[39;00m),\n\u001B[1;32m   1666\u001B[0m     memory_map\u001B[38;5;241m=\u001B[39m\u001B[38;5;28mself\u001B[39m\u001B[38;5;241m.\u001B[39moptions\u001B[38;5;241m.\u001B[39mget(\u001B[38;5;124m\"\u001B[39m\u001B[38;5;124mmemory_map\u001B[39m\u001B[38;5;124m\"\u001B[39m, \u001B[38;5;28;01mFalse\u001B[39;00m),\n\u001B[1;32m   1667\u001B[0m     is_text\u001B[38;5;241m=\u001B[39mis_text,\n\u001B[1;32m   1668\u001B[0m     errors\u001B[38;5;241m=\u001B[39m\u001B[38;5;28mself\u001B[39m\u001B[38;5;241m.\u001B[39moptions\u001B[38;5;241m.\u001B[39mget(\u001B[38;5;124m\"\u001B[39m\u001B[38;5;124mencoding_errors\u001B[39m\u001B[38;5;124m\"\u001B[39m, \u001B[38;5;124m\"\u001B[39m\u001B[38;5;124mstrict\u001B[39m\u001B[38;5;124m\"\u001B[39m),\n\u001B[1;32m   1669\u001B[0m     storage_options\u001B[38;5;241m=\u001B[39m\u001B[38;5;28mself\u001B[39m\u001B[38;5;241m.\u001B[39moptions\u001B[38;5;241m.\u001B[39mget(\u001B[38;5;124m\"\u001B[39m\u001B[38;5;124mstorage_options\u001B[39m\u001B[38;5;124m\"\u001B[39m, \u001B[38;5;28;01mNone\u001B[39;00m),\n\u001B[1;32m   1670\u001B[0m )\n\u001B[1;32m   1671\u001B[0m \u001B[38;5;28;01massert\u001B[39;00m \u001B[38;5;28mself\u001B[39m\u001B[38;5;241m.\u001B[39mhandles \u001B[38;5;129;01mis\u001B[39;00m \u001B[38;5;129;01mnot\u001B[39;00m \u001B[38;5;28;01mNone\u001B[39;00m\n\u001B[1;32m   1672\u001B[0m f \u001B[38;5;241m=\u001B[39m \u001B[38;5;28mself\u001B[39m\u001B[38;5;241m.\u001B[39mhandles\u001B[38;5;241m.\u001B[39mhandle\n",
      "File \u001B[0;32m~/anaconda3/lib/python3.11/site-packages/pandas/io/common.py:859\u001B[0m, in \u001B[0;36mget_handle\u001B[0;34m(path_or_buf, mode, encoding, compression, memory_map, is_text, errors, storage_options)\u001B[0m\n\u001B[1;32m    854\u001B[0m \u001B[38;5;28;01melif\u001B[39;00m \u001B[38;5;28misinstance\u001B[39m(handle, \u001B[38;5;28mstr\u001B[39m):\n\u001B[1;32m    855\u001B[0m     \u001B[38;5;66;03m# Check whether the filename is to be opened in binary mode.\u001B[39;00m\n\u001B[1;32m    856\u001B[0m     \u001B[38;5;66;03m# Binary mode does not support 'encoding' and 'newline'.\u001B[39;00m\n\u001B[1;32m    857\u001B[0m     \u001B[38;5;28;01mif\u001B[39;00m ioargs\u001B[38;5;241m.\u001B[39mencoding \u001B[38;5;129;01mand\u001B[39;00m \u001B[38;5;124m\"\u001B[39m\u001B[38;5;124mb\u001B[39m\u001B[38;5;124m\"\u001B[39m \u001B[38;5;129;01mnot\u001B[39;00m \u001B[38;5;129;01min\u001B[39;00m ioargs\u001B[38;5;241m.\u001B[39mmode:\n\u001B[1;32m    858\u001B[0m         \u001B[38;5;66;03m# Encoding\u001B[39;00m\n\u001B[0;32m--> 859\u001B[0m         handle \u001B[38;5;241m=\u001B[39m \u001B[38;5;28mopen\u001B[39m(\n\u001B[1;32m    860\u001B[0m             handle,\n\u001B[1;32m    861\u001B[0m             ioargs\u001B[38;5;241m.\u001B[39mmode,\n\u001B[1;32m    862\u001B[0m             encoding\u001B[38;5;241m=\u001B[39mioargs\u001B[38;5;241m.\u001B[39mencoding,\n\u001B[1;32m    863\u001B[0m             errors\u001B[38;5;241m=\u001B[39merrors,\n\u001B[1;32m    864\u001B[0m             newline\u001B[38;5;241m=\u001B[39m\u001B[38;5;124m\"\u001B[39m\u001B[38;5;124m\"\u001B[39m,\n\u001B[1;32m    865\u001B[0m         )\n\u001B[1;32m    866\u001B[0m     \u001B[38;5;28;01melse\u001B[39;00m:\n\u001B[1;32m    867\u001B[0m         \u001B[38;5;66;03m# Binary mode\u001B[39;00m\n\u001B[1;32m    868\u001B[0m         handle \u001B[38;5;241m=\u001B[39m \u001B[38;5;28mopen\u001B[39m(handle, ioargs\u001B[38;5;241m.\u001B[39mmode)\n",
      "\u001B[0;31mFileNotFoundError\u001B[0m: [Errno 2] No such file or directory: 'datasets/events/events.csv'"
     ]
    }
   ],
   "source": [
    "events_df = pd.read_csv(EVENTS_DIR.joinpath(\"events.csv\"))\n",
    "game_info_df = pd.read_csv(EVENTS_DIR.joinpath(\"ginf.csv\"))\n",
    "dictionary = json.load(open(EVENTS_DIR.joinpath(\"dictionary.json\")))"
   ]
  },
  {
   "cell_type": "code",
   "execution_count": null,
   "metadata": {},
   "outputs": [],
   "source": [
    "full_df = pd.merge(events_df, game_info_df, on='id_odsp', how='inner').drop(\"id_odsp\", axis=1).drop(\"id_event\", axis=1).drop(\"sort_order\", axis=1).drop(\"adv_stats\", axis=1)\n",
    "for name in dictionary.keys():\n",
    "    full_df = full_df.replace({name: { kv[\"id\"] : kv[\"name\"] for kv in dictionary[name]}})\n",
    "full_df"
   ]
  },
  {
   "cell_type": "code",
   "execution_count": 5,
   "metadata": {
    "ExecuteTime": {
     "end_time": "2024-03-19T09:27:08.840306Z",
     "start_time": "2024-03-19T09:27:08.814885Z"
    }
   },
   "outputs": [
    {
     "ename": "NameError",
     "evalue": "name 'full_df' is not defined",
     "output_type": "error",
     "traceback": [
      "\u001B[0;31m---------------------------------------------------------------------------\u001B[0m",
      "\u001B[0;31mNameError\u001B[0m                                 Traceback (most recent call last)",
      "Cell \u001B[0;32mIn[5], line 1\u001B[0m\n\u001B[0;32m----> 1\u001B[0m full_df[full_df\u001B[38;5;241m.\u001B[39mis_goal \u001B[38;5;241m==\u001B[39m \u001B[38;5;241m1\u001B[39m]\u001B[38;5;241m.\u001B[39mplayer\u001B[38;5;241m.\u001B[39mvalue_counts()\n",
      "\u001B[0;31mNameError\u001B[0m: name 'full_df' is not defined"
     ]
    }
   ],
   "source": [
    "full_df[full_df.is_goal == 1].player.value_counts()"
   ]
  },
  {
   "cell_type": "code",
   "execution_count": 6,
   "metadata": {
    "ExecuteTime": {
     "end_time": "2024-03-19T09:27:08.894797Z",
     "start_time": "2024-03-19T09:27:08.864719Z"
    }
   },
   "outputs": [
    {
     "ename": "NameError",
     "evalue": "name 'game_info_df' is not defined",
     "output_type": "error",
     "traceback": [
      "\u001B[0;31m---------------------------------------------------------------------------\u001B[0m",
      "\u001B[0;31mNameError\u001B[0m                                 Traceback (most recent call last)",
      "Cell \u001B[0;32mIn[6], line 1\u001B[0m\n\u001B[0;32m----> 1\u001B[0m frame \u001B[38;5;241m=\u001B[39m {\u001B[38;5;124m'\u001B[39m\u001B[38;5;124mHome\u001B[39m\u001B[38;5;124m'\u001B[39m: game_info_df[[\u001B[38;5;124m\"\u001B[39m\u001B[38;5;124mht\u001B[39m\u001B[38;5;124m\"\u001B[39m]]\u001B[38;5;241m.\u001B[39mvalue_counts(),\n\u001B[1;32m      2\u001B[0m          \u001B[38;5;124m'\u001B[39m\u001B[38;5;124mAway\u001B[39m\u001B[38;5;124m'\u001B[39m: game_info_df[[\u001B[38;5;124m\"\u001B[39m\u001B[38;5;124mat\u001B[39m\u001B[38;5;124m\"\u001B[39m]]\u001B[38;5;241m.\u001B[39mvalue_counts()}\n\u001B[1;32m      3\u001B[0m games_df \u001B[38;5;241m=\u001B[39m pd\u001B[38;5;241m.\u001B[39mDataFrame(frame)\n\u001B[1;32m      4\u001B[0m games_df[\u001B[38;5;124m'\u001B[39m\u001B[38;5;124mTotal\u001B[39m\u001B[38;5;124m'\u001B[39m] \u001B[38;5;241m=\u001B[39m games_df\u001B[38;5;241m.\u001B[39mHome \u001B[38;5;241m+\u001B[39m games_df\u001B[38;5;241m.\u001B[39mAway\n",
      "\u001B[0;31mNameError\u001B[0m: name 'game_info_df' is not defined"
     ]
    }
   ],
   "source": [
    "frame = {'Home': game_info_df[[\"ht\"]].value_counts(),\n",
    "         'Away': game_info_df[[\"at\"]].value_counts()}\n",
    "games_df = pd.DataFrame(frame)\n",
    "games_df['Total'] = games_df.Home + games_df.Away\n",
    "games_df.value_counts(\"Total\").head()"
   ]
  },
  {
   "cell_type": "code",
   "execution_count": 7,
   "metadata": {
    "ExecuteTime": {
     "end_time": "2024-03-19T09:27:08.998012Z",
     "start_time": "2024-03-19T09:27:08.968529Z"
    }
   },
   "outputs": [
    {
     "ename": "NameError",
     "evalue": "name 'game_info_df' is not defined",
     "output_type": "error",
     "traceback": [
      "\u001B[0;31m---------------------------------------------------------------------------\u001B[0m",
      "\u001B[0;31mNameError\u001B[0m                                 Traceback (most recent call last)",
      "Cell \u001B[0;32mIn[7], line 1\u001B[0m\n\u001B[0;32m----> 1\u001B[0m game_info_df[[\u001B[38;5;124m\"\u001B[39m\u001B[38;5;124mseason\u001B[39m\u001B[38;5;124m\"\u001B[39m, \u001B[38;5;124m\"\u001B[39m\u001B[38;5;124mcountry\u001B[39m\u001B[38;5;124m\"\u001B[39m]]\u001B[38;5;241m.\u001B[39mvalue_counts()\u001B[38;5;241m.\u001B[39mhead()\n",
      "\u001B[0;31mNameError\u001B[0m: name 'game_info_df' is not defined"
     ]
    }
   ],
   "source": [
    "game_info_df[[\"season\", \"country\"]].value_counts().head()"
   ]
  },
  {
   "cell_type": "code",
   "execution_count": 8,
   "metadata": {
    "ExecuteTime": {
     "end_time": "2024-03-19T09:27:09.034416Z",
     "start_time": "2024-03-19T09:27:09.007587Z"
    }
   },
   "outputs": [
    {
     "ename": "NameError",
     "evalue": "name 'full_df' is not defined",
     "output_type": "error",
     "traceback": [
      "\u001B[0;31m---------------------------------------------------------------------------\u001B[0m",
      "\u001B[0;31mNameError\u001B[0m                                 Traceback (most recent call last)",
      "Cell \u001B[0;32mIn[8], line 1\u001B[0m\n\u001B[0;32m----> 1\u001B[0m full_df[full_df\u001B[38;5;241m.\u001B[39mis_goal \u001B[38;5;241m==\u001B[39m \u001B[38;5;241m1\u001B[39m]\u001B[38;5;241m.\u001B[39mlocation\u001B[38;5;241m.\u001B[39mdropna()\u001B[38;5;241m.\u001B[39mvalue_counts()\n",
      "\u001B[0;31mNameError\u001B[0m: name 'full_df' is not defined"
     ]
    }
   ],
   "source": [
    "full_df[full_df.is_goal == 1].location.dropna().value_counts()"
   ]
  },
  {
   "cell_type": "code",
   "execution_count": 9,
   "metadata": {
    "ExecuteTime": {
     "end_time": "2024-03-19T09:27:09.115755Z",
     "start_time": "2024-03-19T09:27:09.090283Z"
    }
   },
   "outputs": [
    {
     "ename": "NameError",
     "evalue": "name 'full_df' is not defined",
     "output_type": "error",
     "traceback": [
      "\u001B[0;31m---------------------------------------------------------------------------\u001B[0m",
      "\u001B[0;31mNameError\u001B[0m                                 Traceback (most recent call last)",
      "Cell \u001B[0;32mIn[9], line 1\u001B[0m\n\u001B[0;32m----> 1\u001B[0m full_df[full_df\u001B[38;5;241m.\u001B[39mis_goal \u001B[38;5;241m==\u001B[39m \u001B[38;5;241m1\u001B[39m]\u001B[38;5;241m.\u001B[39mshot_place\u001B[38;5;241m.\u001B[39mvalue_counts()\n",
      "\u001B[0;31mNameError\u001B[0m: name 'full_df' is not defined"
     ]
    }
   ],
   "source": [
    "full_df[full_df.is_goal == 1].shot_place.value_counts()"
   ]
  },
  {
   "cell_type": "code",
   "execution_count": 10,
   "metadata": {
    "ExecuteTime": {
     "end_time": "2024-03-19T09:27:09.190673Z",
     "start_time": "2024-03-19T09:27:09.170715Z"
    }
   },
   "outputs": [
    {
     "ename": "NameError",
     "evalue": "name 'full_df' is not defined",
     "output_type": "error",
     "traceback": [
      "\u001B[0;31m---------------------------------------------------------------------------\u001B[0m",
      "\u001B[0;31mNameError\u001B[0m                                 Traceback (most recent call last)",
      "Cell \u001B[0;32mIn[10], line 1\u001B[0m\n\u001B[0;32m----> 1\u001B[0m full_df[full_df\u001B[38;5;241m.\u001B[39mis_goal \u001B[38;5;241m==\u001B[39m \u001B[38;5;241m1\u001B[39m]\n",
      "\u001B[0;31mNameError\u001B[0m: name 'full_df' is not defined"
     ]
    }
   ],
   "source": [
    "full_df[full_df.is_goal == 1]"
   ]
  },
  {
   "cell_type": "code",
   "execution_count": 11,
   "metadata": {
    "ExecuteTime": {
     "end_time": "2024-03-19T09:27:09.293328Z",
     "start_time": "2024-03-19T09:27:09.266565Z"
    }
   },
   "outputs": [
    {
     "ename": "NameError",
     "evalue": "name 'full_df' is not defined",
     "output_type": "error",
     "traceback": [
      "\u001B[0;31m---------------------------------------------------------------------------\u001B[0m",
      "\u001B[0;31mNameError\u001B[0m                                 Traceback (most recent call last)",
      "Cell \u001B[0;32mIn[11], line 1\u001B[0m\n\u001B[0;32m----> 1\u001B[0m all_attempts \u001B[38;5;241m=\u001B[39m full_df[full_df\u001B[38;5;241m.\u001B[39mevent_type \u001B[38;5;241m==\u001B[39m \u001B[38;5;124m\"\u001B[39m\u001B[38;5;124mAttempt\u001B[39m\u001B[38;5;124m\"\u001B[39m]\n\u001B[1;32m      2\u001B[0m goals_by_shot_place \u001B[38;5;241m=\u001B[39m all_attempts[all_attempts\u001B[38;5;241m.\u001B[39mis_goal \u001B[38;5;241m==\u001B[39m \u001B[38;5;241m1\u001B[39m]\u001B[38;5;241m.\u001B[39mgroupby(\u001B[38;5;124m\"\u001B[39m\u001B[38;5;124mshot_place\u001B[39m\u001B[38;5;124m\"\u001B[39m)\u001B[38;5;241m.\u001B[39mshot_place\u001B[38;5;241m.\u001B[39msize()\n\u001B[1;32m      3\u001B[0m attempts_by_shot_place \u001B[38;5;241m=\u001B[39m all_attempts\u001B[38;5;241m.\u001B[39mgroupby(\u001B[38;5;124m\"\u001B[39m\u001B[38;5;124mshot_place\u001B[39m\u001B[38;5;124m\"\u001B[39m)\u001B[38;5;241m.\u001B[39mshot_place\u001B[38;5;241m.\u001B[39msize()\n",
      "\u001B[0;31mNameError\u001B[0m: name 'full_df' is not defined"
     ]
    }
   ],
   "source": [
    "all_attempts = full_df[full_df.event_type == \"Attempt\"]\n",
    "goals_by_shot_place = all_attempts[all_attempts.is_goal == 1].groupby(\"shot_place\").shot_place.size()\n",
    "attempts_by_shot_place = all_attempts.groupby(\"shot_place\").shot_place.size()\n",
    "goal_rates = pd.concat([goals_by_shot_place, attempts_by_shot_place], axis=1, join=\"inner\")\n",
    "goal_rates.columns = ['goals','attempts']\n",
    "goal_rates['ratio'] = goal_rates[\"goals\"] / goal_rates[\"attempts\"]\n",
    "goal_rates"
   ]
  },
  {
   "cell_type": "markdown",
   "metadata": {},
   "source": [
    "## Notes\n",
    "- The 2017 season is not complete\n",
    "- The position data for each event is not precise\n",
    "- Only 1/3 events have a location, but moments of play such as goals often do\n",
    "- Most goals are scored in the bottom corners, but most attempts are made in the centre"
   ]
  },
  {
   "cell_type": "markdown",
   "source": [
    "# Explore the [transfers](https://github.com/d2ski/football-transfers-data) dataset\n"
   ],
   "metadata": {
    "collapsed": false
   }
  },
  {
   "cell_type": "code",
   "outputs": [
    {
     "data": {
      "text/plain": "      league  season window  team_id          team_name team_country   dir  \\\n0        GB1    2009      s      985  Manchester United      England    in   \n1        GB1    2009      s      985  Manchester United      England    in   \n2        GB1    2009      s      985  Manchester United      England    in   \n3        GB1    2009      s      985  Manchester United      England    in   \n4        GB1    2009      s      985  Manchester United      England    in   \n...      ...     ...    ...      ...                ...          ...   ...   \n70001    NL1    2021      w      306      SC Heerenveen  Netherlands    in   \n70002    NL1    2021      w      306      SC Heerenveen  Netherlands    in   \n70003    NL1    2021      w      468   Sparta Rotterdam  Netherlands    in   \n70004    NL1    2021      w      468   Sparta Rotterdam  Netherlands  left   \n70005    NL1    2021      w      499     Vitesse Arnhem  Netherlands    in   \n\n       player_id        player_name  player_age  ... counter_team_id  \\\n0          33544   Antonio Valencia        23.0  ...            1071   \n1          62049         Mame Diouf        21.0  ...             687   \n2          43261    Gabriel Obertan        20.0  ...              40   \n3           1397       Michael Owen        29.0  ...             762   \n4          73538      Scott Moffatt        18.0  ...            5242   \n...          ...                ...         ...  ...             ...   \n70001     257808     Runar Espejord        25.0  ...            1293   \n70002     580142  Joaquín Fernández        22.0  ...           37535   \n70003     340353       Maduka Okoye        22.0  ...            1010   \n70004     340353       Maduka Okoye        22.0  ...            1010   \n70005     187203    Eric Verstappen        27.0  ...             515   \n\n            counter_team_name counter_team_country transfer_fee_amnt  \\\n0              Wigan Athletic              England        18800000.0   \n1                    Molde FK               Norway         4500000.0   \n2       FC Girondins Bordeaux               France         4000000.0   \n3            Newcastle United              England               0.0   \n4       Manchester United U18              England               NaN   \n...                       ...                  ...               ...   \n70001               Tromsø IL               Norway               NaN   \n70002  Montevideo City Torque              Uruguay               NaN   \n70003              Watford FC              England               NaN   \n70004              Watford FC              England         7000000.0   \n70005            Without Club         Without Club               NaN   \n\n      market_val_amnt is_free  is_loan  is_loan_end  is_retired  transfer_id  \n0                 NaN   False    False        False       False       310832  \n1           1600000.0   False    False        False       False       319841  \n2            400000.0   False    False        False       False       315185  \n3                 NaN    True    False        False       False       306421  \n4                 NaN   False    False        False       False       339015  \n...               ...     ...      ...          ...         ...          ...  \n70001        500000.0   False     True         True       False      3071862  \n70002        100000.0   False     True         True       False      3268245  \n70003       1000000.0   False     True        False       False      3619917  \n70004       1000000.0   False    False        False       False      3619916  \n70005        125000.0   False    False        False       False      3611421  \n\n[70006 rows x 23 columns]",
      "text/html": "<div>\n<style scoped>\n    .dataframe tbody tr th:only-of-type {\n        vertical-align: middle;\n    }\n\n    .dataframe tbody tr th {\n        vertical-align: top;\n    }\n\n    .dataframe thead th {\n        text-align: right;\n    }\n</style>\n<table border=\"1\" class=\"dataframe\">\n  <thead>\n    <tr style=\"text-align: right;\">\n      <th></th>\n      <th>league</th>\n      <th>season</th>\n      <th>window</th>\n      <th>team_id</th>\n      <th>team_name</th>\n      <th>team_country</th>\n      <th>dir</th>\n      <th>player_id</th>\n      <th>player_name</th>\n      <th>player_age</th>\n      <th>...</th>\n      <th>counter_team_id</th>\n      <th>counter_team_name</th>\n      <th>counter_team_country</th>\n      <th>transfer_fee_amnt</th>\n      <th>market_val_amnt</th>\n      <th>is_free</th>\n      <th>is_loan</th>\n      <th>is_loan_end</th>\n      <th>is_retired</th>\n      <th>transfer_id</th>\n    </tr>\n  </thead>\n  <tbody>\n    <tr>\n      <th>0</th>\n      <td>GB1</td>\n      <td>2009</td>\n      <td>s</td>\n      <td>985</td>\n      <td>Manchester United</td>\n      <td>England</td>\n      <td>in</td>\n      <td>33544</td>\n      <td>Antonio Valencia</td>\n      <td>23.0</td>\n      <td>...</td>\n      <td>1071</td>\n      <td>Wigan Athletic</td>\n      <td>England</td>\n      <td>18800000.0</td>\n      <td>NaN</td>\n      <td>False</td>\n      <td>False</td>\n      <td>False</td>\n      <td>False</td>\n      <td>310832</td>\n    </tr>\n    <tr>\n      <th>1</th>\n      <td>GB1</td>\n      <td>2009</td>\n      <td>s</td>\n      <td>985</td>\n      <td>Manchester United</td>\n      <td>England</td>\n      <td>in</td>\n      <td>62049</td>\n      <td>Mame Diouf</td>\n      <td>21.0</td>\n      <td>...</td>\n      <td>687</td>\n      <td>Molde FK</td>\n      <td>Norway</td>\n      <td>4500000.0</td>\n      <td>1600000.0</td>\n      <td>False</td>\n      <td>False</td>\n      <td>False</td>\n      <td>False</td>\n      <td>319841</td>\n    </tr>\n    <tr>\n      <th>2</th>\n      <td>GB1</td>\n      <td>2009</td>\n      <td>s</td>\n      <td>985</td>\n      <td>Manchester United</td>\n      <td>England</td>\n      <td>in</td>\n      <td>43261</td>\n      <td>Gabriel Obertan</td>\n      <td>20.0</td>\n      <td>...</td>\n      <td>40</td>\n      <td>FC Girondins Bordeaux</td>\n      <td>France</td>\n      <td>4000000.0</td>\n      <td>400000.0</td>\n      <td>False</td>\n      <td>False</td>\n      <td>False</td>\n      <td>False</td>\n      <td>315185</td>\n    </tr>\n    <tr>\n      <th>3</th>\n      <td>GB1</td>\n      <td>2009</td>\n      <td>s</td>\n      <td>985</td>\n      <td>Manchester United</td>\n      <td>England</td>\n      <td>in</td>\n      <td>1397</td>\n      <td>Michael Owen</td>\n      <td>29.0</td>\n      <td>...</td>\n      <td>762</td>\n      <td>Newcastle United</td>\n      <td>England</td>\n      <td>0.0</td>\n      <td>NaN</td>\n      <td>True</td>\n      <td>False</td>\n      <td>False</td>\n      <td>False</td>\n      <td>306421</td>\n    </tr>\n    <tr>\n      <th>4</th>\n      <td>GB1</td>\n      <td>2009</td>\n      <td>s</td>\n      <td>985</td>\n      <td>Manchester United</td>\n      <td>England</td>\n      <td>in</td>\n      <td>73538</td>\n      <td>Scott Moffatt</td>\n      <td>18.0</td>\n      <td>...</td>\n      <td>5242</td>\n      <td>Manchester United U18</td>\n      <td>England</td>\n      <td>NaN</td>\n      <td>NaN</td>\n      <td>False</td>\n      <td>False</td>\n      <td>False</td>\n      <td>False</td>\n      <td>339015</td>\n    </tr>\n    <tr>\n      <th>...</th>\n      <td>...</td>\n      <td>...</td>\n      <td>...</td>\n      <td>...</td>\n      <td>...</td>\n      <td>...</td>\n      <td>...</td>\n      <td>...</td>\n      <td>...</td>\n      <td>...</td>\n      <td>...</td>\n      <td>...</td>\n      <td>...</td>\n      <td>...</td>\n      <td>...</td>\n      <td>...</td>\n      <td>...</td>\n      <td>...</td>\n      <td>...</td>\n      <td>...</td>\n      <td>...</td>\n    </tr>\n    <tr>\n      <th>70001</th>\n      <td>NL1</td>\n      <td>2021</td>\n      <td>w</td>\n      <td>306</td>\n      <td>SC Heerenveen</td>\n      <td>Netherlands</td>\n      <td>in</td>\n      <td>257808</td>\n      <td>Runar Espejord</td>\n      <td>25.0</td>\n      <td>...</td>\n      <td>1293</td>\n      <td>Tromsø IL</td>\n      <td>Norway</td>\n      <td>NaN</td>\n      <td>500000.0</td>\n      <td>False</td>\n      <td>True</td>\n      <td>True</td>\n      <td>False</td>\n      <td>3071862</td>\n    </tr>\n    <tr>\n      <th>70002</th>\n      <td>NL1</td>\n      <td>2021</td>\n      <td>w</td>\n      <td>306</td>\n      <td>SC Heerenveen</td>\n      <td>Netherlands</td>\n      <td>in</td>\n      <td>580142</td>\n      <td>Joaquín Fernández</td>\n      <td>22.0</td>\n      <td>...</td>\n      <td>37535</td>\n      <td>Montevideo City Torque</td>\n      <td>Uruguay</td>\n      <td>NaN</td>\n      <td>100000.0</td>\n      <td>False</td>\n      <td>True</td>\n      <td>True</td>\n      <td>False</td>\n      <td>3268245</td>\n    </tr>\n    <tr>\n      <th>70003</th>\n      <td>NL1</td>\n      <td>2021</td>\n      <td>w</td>\n      <td>468</td>\n      <td>Sparta Rotterdam</td>\n      <td>Netherlands</td>\n      <td>in</td>\n      <td>340353</td>\n      <td>Maduka Okoye</td>\n      <td>22.0</td>\n      <td>...</td>\n      <td>1010</td>\n      <td>Watford FC</td>\n      <td>England</td>\n      <td>NaN</td>\n      <td>1000000.0</td>\n      <td>False</td>\n      <td>True</td>\n      <td>False</td>\n      <td>False</td>\n      <td>3619917</td>\n    </tr>\n    <tr>\n      <th>70004</th>\n      <td>NL1</td>\n      <td>2021</td>\n      <td>w</td>\n      <td>468</td>\n      <td>Sparta Rotterdam</td>\n      <td>Netherlands</td>\n      <td>left</td>\n      <td>340353</td>\n      <td>Maduka Okoye</td>\n      <td>22.0</td>\n      <td>...</td>\n      <td>1010</td>\n      <td>Watford FC</td>\n      <td>England</td>\n      <td>7000000.0</td>\n      <td>1000000.0</td>\n      <td>False</td>\n      <td>False</td>\n      <td>False</td>\n      <td>False</td>\n      <td>3619916</td>\n    </tr>\n    <tr>\n      <th>70005</th>\n      <td>NL1</td>\n      <td>2021</td>\n      <td>w</td>\n      <td>499</td>\n      <td>Vitesse Arnhem</td>\n      <td>Netherlands</td>\n      <td>in</td>\n      <td>187203</td>\n      <td>Eric Verstappen</td>\n      <td>27.0</td>\n      <td>...</td>\n      <td>515</td>\n      <td>Without Club</td>\n      <td>Without Club</td>\n      <td>NaN</td>\n      <td>125000.0</td>\n      <td>False</td>\n      <td>False</td>\n      <td>False</td>\n      <td>False</td>\n      <td>3611421</td>\n    </tr>\n  </tbody>\n</table>\n<p>70006 rows × 23 columns</p>\n</div>"
     },
     "execution_count": 12,
     "metadata": {},
     "output_type": "execute_result"
    }
   ],
   "source": [
    "full_df = pd.read_csv(TRANSFERS_DIR.joinpath(\"transfers.csv\"))\n",
    "full_df"
   ],
   "metadata": {
    "collapsed": false,
    "ExecuteTime": {
     "end_time": "2024-03-19T09:27:09.652203Z",
     "start_time": "2024-03-19T09:27:09.348705Z"
    }
   },
   "execution_count": 12
  },
  {
   "cell_type": "code",
   "outputs": [
    {
     "data": {
      "text/plain": "      league  season window  team_id          team_name team_country dir  \\\n0        GB1    2009      s      985  Manchester United      England  in   \n1        GB1    2009      s      985  Manchester United      England  in   \n2        GB1    2009      s      985  Manchester United      England  in   \n3        GB1    2009      s      985  Manchester United      England  in   \n4        GB1    2009      s      985  Manchester United      England  in   \n...      ...     ...    ...      ...                ...          ...  ..   \n70000    NL1    2021      w      385    Fortuna Sittard  Netherlands  in   \n70001    NL1    2021      w      306      SC Heerenveen  Netherlands  in   \n70002    NL1    2021      w      306      SC Heerenveen  Netherlands  in   \n70003    NL1    2021      w      468   Sparta Rotterdam  Netherlands  in   \n70005    NL1    2021      w      499     Vitesse Arnhem  Netherlands  in   \n\n       player_id        player_name  player_age  ... counter_team_id  \\\n0          33544   Antonio Valencia        23.0  ...            1071   \n1          62049         Mame Diouf        21.0  ...             687   \n2          43261    Gabriel Obertan        20.0  ...              40   \n3           1397       Michael Owen        29.0  ...             762   \n4          73538      Scott Moffatt        18.0  ...            5242   \n...          ...                ...         ...  ...             ...   \n70000     140032    Andreas Samaris        32.0  ...             515   \n70001     257808     Runar Espejord        25.0  ...            1293   \n70002     580142  Joaquín Fernández        22.0  ...           37535   \n70003     340353       Maduka Okoye        22.0  ...            1010   \n70005     187203    Eric Verstappen        27.0  ...             515   \n\n            counter_team_name counter_team_country transfer_fee_amnt  \\\n0              Wigan Athletic              England        18800000.0   \n1                    Molde FK               Norway         4500000.0   \n2       FC Girondins Bordeaux               France         4000000.0   \n3            Newcastle United              England               0.0   \n4       Manchester United U18              England               NaN   \n...                       ...                  ...               ...   \n70000            Without Club         Without Club               NaN   \n70001               Tromsø IL               Norway               NaN   \n70002  Montevideo City Torque              Uruguay               NaN   \n70003              Watford FC              England               NaN   \n70005            Without Club         Without Club               NaN   \n\n      market_val_amnt is_free  is_loan  is_loan_end  is_retired  transfer_id  \n0                 NaN   False    False        False       False       310832  \n1           1600000.0   False    False        False       False       319841  \n2            400000.0   False    False        False       False       315185  \n3                 NaN    True    False        False       False       306421  \n4                 NaN   False    False        False       False       339015  \n...               ...     ...      ...          ...         ...          ...  \n70000       1500000.0   False    False        False       False      3633188  \n70001        500000.0   False     True         True       False      3071862  \n70002        100000.0   False     True         True       False      3268245  \n70003       1000000.0   False     True        False       False      3619917  \n70005        125000.0   False    False        False       False      3611421  \n\n[31934 rows x 23 columns]",
      "text/html": "<div>\n<style scoped>\n    .dataframe tbody tr th:only-of-type {\n        vertical-align: middle;\n    }\n\n    .dataframe tbody tr th {\n        vertical-align: top;\n    }\n\n    .dataframe thead th {\n        text-align: right;\n    }\n</style>\n<table border=\"1\" class=\"dataframe\">\n  <thead>\n    <tr style=\"text-align: right;\">\n      <th></th>\n      <th>league</th>\n      <th>season</th>\n      <th>window</th>\n      <th>team_id</th>\n      <th>team_name</th>\n      <th>team_country</th>\n      <th>dir</th>\n      <th>player_id</th>\n      <th>player_name</th>\n      <th>player_age</th>\n      <th>...</th>\n      <th>counter_team_id</th>\n      <th>counter_team_name</th>\n      <th>counter_team_country</th>\n      <th>transfer_fee_amnt</th>\n      <th>market_val_amnt</th>\n      <th>is_free</th>\n      <th>is_loan</th>\n      <th>is_loan_end</th>\n      <th>is_retired</th>\n      <th>transfer_id</th>\n    </tr>\n  </thead>\n  <tbody>\n    <tr>\n      <th>0</th>\n      <td>GB1</td>\n      <td>2009</td>\n      <td>s</td>\n      <td>985</td>\n      <td>Manchester United</td>\n      <td>England</td>\n      <td>in</td>\n      <td>33544</td>\n      <td>Antonio Valencia</td>\n      <td>23.0</td>\n      <td>...</td>\n      <td>1071</td>\n      <td>Wigan Athletic</td>\n      <td>England</td>\n      <td>18800000.0</td>\n      <td>NaN</td>\n      <td>False</td>\n      <td>False</td>\n      <td>False</td>\n      <td>False</td>\n      <td>310832</td>\n    </tr>\n    <tr>\n      <th>1</th>\n      <td>GB1</td>\n      <td>2009</td>\n      <td>s</td>\n      <td>985</td>\n      <td>Manchester United</td>\n      <td>England</td>\n      <td>in</td>\n      <td>62049</td>\n      <td>Mame Diouf</td>\n      <td>21.0</td>\n      <td>...</td>\n      <td>687</td>\n      <td>Molde FK</td>\n      <td>Norway</td>\n      <td>4500000.0</td>\n      <td>1600000.0</td>\n      <td>False</td>\n      <td>False</td>\n      <td>False</td>\n      <td>False</td>\n      <td>319841</td>\n    </tr>\n    <tr>\n      <th>2</th>\n      <td>GB1</td>\n      <td>2009</td>\n      <td>s</td>\n      <td>985</td>\n      <td>Manchester United</td>\n      <td>England</td>\n      <td>in</td>\n      <td>43261</td>\n      <td>Gabriel Obertan</td>\n      <td>20.0</td>\n      <td>...</td>\n      <td>40</td>\n      <td>FC Girondins Bordeaux</td>\n      <td>France</td>\n      <td>4000000.0</td>\n      <td>400000.0</td>\n      <td>False</td>\n      <td>False</td>\n      <td>False</td>\n      <td>False</td>\n      <td>315185</td>\n    </tr>\n    <tr>\n      <th>3</th>\n      <td>GB1</td>\n      <td>2009</td>\n      <td>s</td>\n      <td>985</td>\n      <td>Manchester United</td>\n      <td>England</td>\n      <td>in</td>\n      <td>1397</td>\n      <td>Michael Owen</td>\n      <td>29.0</td>\n      <td>...</td>\n      <td>762</td>\n      <td>Newcastle United</td>\n      <td>England</td>\n      <td>0.0</td>\n      <td>NaN</td>\n      <td>True</td>\n      <td>False</td>\n      <td>False</td>\n      <td>False</td>\n      <td>306421</td>\n    </tr>\n    <tr>\n      <th>4</th>\n      <td>GB1</td>\n      <td>2009</td>\n      <td>s</td>\n      <td>985</td>\n      <td>Manchester United</td>\n      <td>England</td>\n      <td>in</td>\n      <td>73538</td>\n      <td>Scott Moffatt</td>\n      <td>18.0</td>\n      <td>...</td>\n      <td>5242</td>\n      <td>Manchester United U18</td>\n      <td>England</td>\n      <td>NaN</td>\n      <td>NaN</td>\n      <td>False</td>\n      <td>False</td>\n      <td>False</td>\n      <td>False</td>\n      <td>339015</td>\n    </tr>\n    <tr>\n      <th>...</th>\n      <td>...</td>\n      <td>...</td>\n      <td>...</td>\n      <td>...</td>\n      <td>...</td>\n      <td>...</td>\n      <td>...</td>\n      <td>...</td>\n      <td>...</td>\n      <td>...</td>\n      <td>...</td>\n      <td>...</td>\n      <td>...</td>\n      <td>...</td>\n      <td>...</td>\n      <td>...</td>\n      <td>...</td>\n      <td>...</td>\n      <td>...</td>\n      <td>...</td>\n      <td>...</td>\n    </tr>\n    <tr>\n      <th>70000</th>\n      <td>NL1</td>\n      <td>2021</td>\n      <td>w</td>\n      <td>385</td>\n      <td>Fortuna Sittard</td>\n      <td>Netherlands</td>\n      <td>in</td>\n      <td>140032</td>\n      <td>Andreas Samaris</td>\n      <td>32.0</td>\n      <td>...</td>\n      <td>515</td>\n      <td>Without Club</td>\n      <td>Without Club</td>\n      <td>NaN</td>\n      <td>1500000.0</td>\n      <td>False</td>\n      <td>False</td>\n      <td>False</td>\n      <td>False</td>\n      <td>3633188</td>\n    </tr>\n    <tr>\n      <th>70001</th>\n      <td>NL1</td>\n      <td>2021</td>\n      <td>w</td>\n      <td>306</td>\n      <td>SC Heerenveen</td>\n      <td>Netherlands</td>\n      <td>in</td>\n      <td>257808</td>\n      <td>Runar Espejord</td>\n      <td>25.0</td>\n      <td>...</td>\n      <td>1293</td>\n      <td>Tromsø IL</td>\n      <td>Norway</td>\n      <td>NaN</td>\n      <td>500000.0</td>\n      <td>False</td>\n      <td>True</td>\n      <td>True</td>\n      <td>False</td>\n      <td>3071862</td>\n    </tr>\n    <tr>\n      <th>70002</th>\n      <td>NL1</td>\n      <td>2021</td>\n      <td>w</td>\n      <td>306</td>\n      <td>SC Heerenveen</td>\n      <td>Netherlands</td>\n      <td>in</td>\n      <td>580142</td>\n      <td>Joaquín Fernández</td>\n      <td>22.0</td>\n      <td>...</td>\n      <td>37535</td>\n      <td>Montevideo City Torque</td>\n      <td>Uruguay</td>\n      <td>NaN</td>\n      <td>100000.0</td>\n      <td>False</td>\n      <td>True</td>\n      <td>True</td>\n      <td>False</td>\n      <td>3268245</td>\n    </tr>\n    <tr>\n      <th>70003</th>\n      <td>NL1</td>\n      <td>2021</td>\n      <td>w</td>\n      <td>468</td>\n      <td>Sparta Rotterdam</td>\n      <td>Netherlands</td>\n      <td>in</td>\n      <td>340353</td>\n      <td>Maduka Okoye</td>\n      <td>22.0</td>\n      <td>...</td>\n      <td>1010</td>\n      <td>Watford FC</td>\n      <td>England</td>\n      <td>NaN</td>\n      <td>1000000.0</td>\n      <td>False</td>\n      <td>True</td>\n      <td>False</td>\n      <td>False</td>\n      <td>3619917</td>\n    </tr>\n    <tr>\n      <th>70005</th>\n      <td>NL1</td>\n      <td>2021</td>\n      <td>w</td>\n      <td>499</td>\n      <td>Vitesse Arnhem</td>\n      <td>Netherlands</td>\n      <td>in</td>\n      <td>187203</td>\n      <td>Eric Verstappen</td>\n      <td>27.0</td>\n      <td>...</td>\n      <td>515</td>\n      <td>Without Club</td>\n      <td>Without Club</td>\n      <td>NaN</td>\n      <td>125000.0</td>\n      <td>False</td>\n      <td>False</td>\n      <td>False</td>\n      <td>False</td>\n      <td>3611421</td>\n    </tr>\n  </tbody>\n</table>\n<p>31934 rows × 23 columns</p>\n</div>"
     },
     "execution_count": 24,
     "metadata": {},
     "output_type": "execute_result"
    }
   ],
   "source": [
    "transfers_in_df = full_df[(full_df['dir'] == 'in')]\n",
    "transfers_in_df"
   ],
   "metadata": {
    "collapsed": false,
    "ExecuteTime": {
     "end_time": "2024-03-19T09:38:20.504474Z",
     "start_time": "2024-03-19T09:38:20.450086Z"
    }
   },
   "execution_count": 24
  },
  {
   "cell_type": "code",
   "outputs": [
    {
     "data": {
      "text/plain": "season\n2015    2601\n2019    2597\n2014    2588\n2011    2562\n2013    2556\n2018    2553\n2016    2518\n2017    2509\n2012    2469\n2020    2394\n2010    2367\n2009    2341\n2021    1879\nName: count, dtype: int64"
     },
     "metadata": {},
     "output_type": "display_data"
    },
    {
     "name": "stdout",
     "output_type": "stream",
     "text": [
      "Average transfers per season: 2456.4615384615386\n"
     ]
    }
   ],
   "source": [
    "seasonal_transfers = transfers_in_df.season.value_counts()\n",
    "display(seasonal_transfers)\n",
    "print(\"Average transfers per season: {mean}\".format(mean=seasonal_transfers.sum() / seasonal_transfers.size))"
   ],
   "metadata": {
    "collapsed": false,
    "ExecuteTime": {
     "end_time": "2024-03-19T09:38:46.848348Z",
     "start_time": "2024-03-19T09:38:46.836019Z"
    }
   },
   "execution_count": 26
  },
  {
   "cell_type": "code",
   "outputs": [
    {
     "data": {
      "text/plain": "team_name\nGenoa CFC             271\nParma FC              255\nUdinese Calcio        183\nVitória Setúbal FC    181\nSL Benfica            177\n                     ... \nGFC Ajaccio             7\nClermont Foot 63        7\nBrentford FC            6\nCD Tenerife             4\nFC St. Pauli            2\nName: count, Length: 242, dtype: int64"
     },
     "metadata": {},
     "output_type": "display_data"
    },
    {
     "name": "stdout",
     "output_type": "stream",
     "text": [
      "Average transfers per club and season: 5.715511760966306\n"
     ]
    }
   ],
   "source": [
    "transfers_per_club = transfers_in_df[(transfers_in_df['is_loan'] == False) & (transfers_in_df['is_loan_end'] == False) & (transfers_in_df['is_retired'] == False)].team_name.value_counts()\n",
    "display(transfers_per_club)\n",
    "print(\"Average transfers per club and season: {mean}\".format(mean=transfers_per_club.sum() / (transfers_per_club.size * seasonal_transfers.size)))"
   ],
   "metadata": {
    "collapsed": false,
    "ExecuteTime": {
     "end_time": "2024-03-19T09:56:59.121599Z",
     "start_time": "2024-03-19T09:56:59.096367Z"
    }
   },
   "execution_count": 34
  },
  {
   "cell_type": "code",
   "outputs": [
    {
     "data": {
      "text/plain": "      league  season window  team_id             team_name team_country dir  \\\n19873    IT1    2009      s       46     FC Internazionale        Italy  in   \n20442    IT1    2009      s     1627        Calcio Catania        Italy  in   \n20595    IT1    2009      s     1390       Cagliari Calcio        Italy  in   \n20618    IT1    2009      s     1025       Bologna FC 1909        Italy  in   \n21534    IT1    2010      s      252             Genoa CFC        Italy  in   \n21719    IT1    2010      s       12               AS Roma        Italy  in   \n22049    IT1    2011      s     6692    Novara Calcio 1908        Italy  in   \n22087    IT1    2011      s     6195            SSC Napoli        Italy  in   \n22731    IT1    2011      s      252             Genoa CFC        Italy  in   \n22923    IT1    2011      s       12               AS Roma        Italy  in   \n24136    IT1    2012      s     2921  Delfino Pescara 1936        Italy  in   \n24654    IT1    2013      s     6574           US Sassuolo        Italy  in   \n25445    IT1    2013      s      130              Parma FC        Italy  in   \n48250    FR1    2017      s      583   Paris Saint-Germain       France  in   \n\n       player_id        player_name  player_age  ... counter_team_id  \\\n19873      83404    Matteo Lombardo        24.0  ...            4550   \n20442      41312       Simone Pesce        27.0  ...             408   \n20595      35719       Andrea Cocco        24.0  ...           24361   \n20618     139326   Giuseppe Nazzani        19.0  ...           10643   \n21534      62270       Danilo Russo        23.0  ...            2655   \n21719      41310    Stefano Guberti        26.0  ...            1038   \n22049      28935   Paolo Dellafiore        26.0  ...             130   \n22087      21690    Daniele Mannini        27.0  ...            1038   \n22731      91914  Davide Bertoncini        21.0  ...            1408   \n22923      24001     Gianluca Curci        25.0  ...            1038   \n24136     164088    Luca Berardocco        21.0  ...            4172   \n24654     163628   Riccardo Barbuti        21.0  ...            5585   \n25445      89034    Riccardo Brosco        22.0  ...            2921   \n48250      68290             Neymar        25.0  ...             131   \n\n             counter_team_name counter_team_country transfer_fee_amnt  \\\n19873               Legnano AC                Italy       500000000.0   \n20442       Ascoli Calcio 1898                Italy       500000000.0   \n20595             Alghero 1945                Italy       500000000.0   \n20618  AC Bellaria Igea Marina                Italy       500000000.0   \n21534           Vicenza Calcio                Italy       500000000.0   \n21719             UC Sampdoria                Italy       500000000.0   \n22049                 Parma FC                Italy       500000000.0   \n22087             UC Sampdoria                Italy       500000000.0   \n22731              Piacenza FC                Italy       550000000.0   \n22923             UC Sampdoria                Italy       500000000.0   \n24136             AC Pisa 1909                Italy       500000000.0   \n24654       SS Barletta Calcio                Italy       500000000.0   \n25445     Delfino Pescara 1936                Italy       500000000.0   \n48250             FC Barcelona                Spain       222000000.0   \n\n      market_val_amnt is_free  is_loan  is_loan_end  is_retired  transfer_id  \n19873             NaN   False    False        False       False       382457  \n20442        200000.0   False    False        False       False       338638  \n20595         75000.0   False    False        False       False       434798  \n20618             NaN   False    False        False       False       399981  \n21534        100000.0   False    False        False       False       590150  \n21719         50000.0   False    False        False       False       590004  \n22049         25000.0   False    False        False       False       616725  \n22087             NaN   False    False        False       False       590138  \n22731        300000.0   False    False        False       False       735935  \n22923             NaN   False    False        False       False       590007  \n24136        300000.0   False    False        False       False       734226  \n24654        200000.0   False    False        False       False       890418  \n25445        500000.0   False    False        False       False       890865  \n48250     100000000.0   False    False        False       False      1866385  \n\n[14 rows x 23 columns]",
      "text/html": "<div>\n<style scoped>\n    .dataframe tbody tr th:only-of-type {\n        vertical-align: middle;\n    }\n\n    .dataframe tbody tr th {\n        vertical-align: top;\n    }\n\n    .dataframe thead th {\n        text-align: right;\n    }\n</style>\n<table border=\"1\" class=\"dataframe\">\n  <thead>\n    <tr style=\"text-align: right;\">\n      <th></th>\n      <th>league</th>\n      <th>season</th>\n      <th>window</th>\n      <th>team_id</th>\n      <th>team_name</th>\n      <th>team_country</th>\n      <th>dir</th>\n      <th>player_id</th>\n      <th>player_name</th>\n      <th>player_age</th>\n      <th>...</th>\n      <th>counter_team_id</th>\n      <th>counter_team_name</th>\n      <th>counter_team_country</th>\n      <th>transfer_fee_amnt</th>\n      <th>market_val_amnt</th>\n      <th>is_free</th>\n      <th>is_loan</th>\n      <th>is_loan_end</th>\n      <th>is_retired</th>\n      <th>transfer_id</th>\n    </tr>\n  </thead>\n  <tbody>\n    <tr>\n      <th>19873</th>\n      <td>IT1</td>\n      <td>2009</td>\n      <td>s</td>\n      <td>46</td>\n      <td>FC Internazionale</td>\n      <td>Italy</td>\n      <td>in</td>\n      <td>83404</td>\n      <td>Matteo Lombardo</td>\n      <td>24.0</td>\n      <td>...</td>\n      <td>4550</td>\n      <td>Legnano AC</td>\n      <td>Italy</td>\n      <td>500000000.0</td>\n      <td>NaN</td>\n      <td>False</td>\n      <td>False</td>\n      <td>False</td>\n      <td>False</td>\n      <td>382457</td>\n    </tr>\n    <tr>\n      <th>20442</th>\n      <td>IT1</td>\n      <td>2009</td>\n      <td>s</td>\n      <td>1627</td>\n      <td>Calcio Catania</td>\n      <td>Italy</td>\n      <td>in</td>\n      <td>41312</td>\n      <td>Simone Pesce</td>\n      <td>27.0</td>\n      <td>...</td>\n      <td>408</td>\n      <td>Ascoli Calcio 1898</td>\n      <td>Italy</td>\n      <td>500000000.0</td>\n      <td>200000.0</td>\n      <td>False</td>\n      <td>False</td>\n      <td>False</td>\n      <td>False</td>\n      <td>338638</td>\n    </tr>\n    <tr>\n      <th>20595</th>\n      <td>IT1</td>\n      <td>2009</td>\n      <td>s</td>\n      <td>1390</td>\n      <td>Cagliari Calcio</td>\n      <td>Italy</td>\n      <td>in</td>\n      <td>35719</td>\n      <td>Andrea Cocco</td>\n      <td>24.0</td>\n      <td>...</td>\n      <td>24361</td>\n      <td>Alghero 1945</td>\n      <td>Italy</td>\n      <td>500000000.0</td>\n      <td>75000.0</td>\n      <td>False</td>\n      <td>False</td>\n      <td>False</td>\n      <td>False</td>\n      <td>434798</td>\n    </tr>\n    <tr>\n      <th>20618</th>\n      <td>IT1</td>\n      <td>2009</td>\n      <td>s</td>\n      <td>1025</td>\n      <td>Bologna FC 1909</td>\n      <td>Italy</td>\n      <td>in</td>\n      <td>139326</td>\n      <td>Giuseppe Nazzani</td>\n      <td>19.0</td>\n      <td>...</td>\n      <td>10643</td>\n      <td>AC Bellaria Igea Marina</td>\n      <td>Italy</td>\n      <td>500000000.0</td>\n      <td>NaN</td>\n      <td>False</td>\n      <td>False</td>\n      <td>False</td>\n      <td>False</td>\n      <td>399981</td>\n    </tr>\n    <tr>\n      <th>21534</th>\n      <td>IT1</td>\n      <td>2010</td>\n      <td>s</td>\n      <td>252</td>\n      <td>Genoa CFC</td>\n      <td>Italy</td>\n      <td>in</td>\n      <td>62270</td>\n      <td>Danilo Russo</td>\n      <td>23.0</td>\n      <td>...</td>\n      <td>2655</td>\n      <td>Vicenza Calcio</td>\n      <td>Italy</td>\n      <td>500000000.0</td>\n      <td>100000.0</td>\n      <td>False</td>\n      <td>False</td>\n      <td>False</td>\n      <td>False</td>\n      <td>590150</td>\n    </tr>\n    <tr>\n      <th>21719</th>\n      <td>IT1</td>\n      <td>2010</td>\n      <td>s</td>\n      <td>12</td>\n      <td>AS Roma</td>\n      <td>Italy</td>\n      <td>in</td>\n      <td>41310</td>\n      <td>Stefano Guberti</td>\n      <td>26.0</td>\n      <td>...</td>\n      <td>1038</td>\n      <td>UC Sampdoria</td>\n      <td>Italy</td>\n      <td>500000000.0</td>\n      <td>50000.0</td>\n      <td>False</td>\n      <td>False</td>\n      <td>False</td>\n      <td>False</td>\n      <td>590004</td>\n    </tr>\n    <tr>\n      <th>22049</th>\n      <td>IT1</td>\n      <td>2011</td>\n      <td>s</td>\n      <td>6692</td>\n      <td>Novara Calcio 1908</td>\n      <td>Italy</td>\n      <td>in</td>\n      <td>28935</td>\n      <td>Paolo Dellafiore</td>\n      <td>26.0</td>\n      <td>...</td>\n      <td>130</td>\n      <td>Parma FC</td>\n      <td>Italy</td>\n      <td>500000000.0</td>\n      <td>25000.0</td>\n      <td>False</td>\n      <td>False</td>\n      <td>False</td>\n      <td>False</td>\n      <td>616725</td>\n    </tr>\n    <tr>\n      <th>22087</th>\n      <td>IT1</td>\n      <td>2011</td>\n      <td>s</td>\n      <td>6195</td>\n      <td>SSC Napoli</td>\n      <td>Italy</td>\n      <td>in</td>\n      <td>21690</td>\n      <td>Daniele Mannini</td>\n      <td>27.0</td>\n      <td>...</td>\n      <td>1038</td>\n      <td>UC Sampdoria</td>\n      <td>Italy</td>\n      <td>500000000.0</td>\n      <td>NaN</td>\n      <td>False</td>\n      <td>False</td>\n      <td>False</td>\n      <td>False</td>\n      <td>590138</td>\n    </tr>\n    <tr>\n      <th>22731</th>\n      <td>IT1</td>\n      <td>2011</td>\n      <td>s</td>\n      <td>252</td>\n      <td>Genoa CFC</td>\n      <td>Italy</td>\n      <td>in</td>\n      <td>91914</td>\n      <td>Davide Bertoncini</td>\n      <td>21.0</td>\n      <td>...</td>\n      <td>1408</td>\n      <td>Piacenza FC</td>\n      <td>Italy</td>\n      <td>550000000.0</td>\n      <td>300000.0</td>\n      <td>False</td>\n      <td>False</td>\n      <td>False</td>\n      <td>False</td>\n      <td>735935</td>\n    </tr>\n    <tr>\n      <th>22923</th>\n      <td>IT1</td>\n      <td>2011</td>\n      <td>s</td>\n      <td>12</td>\n      <td>AS Roma</td>\n      <td>Italy</td>\n      <td>in</td>\n      <td>24001</td>\n      <td>Gianluca Curci</td>\n      <td>25.0</td>\n      <td>...</td>\n      <td>1038</td>\n      <td>UC Sampdoria</td>\n      <td>Italy</td>\n      <td>500000000.0</td>\n      <td>NaN</td>\n      <td>False</td>\n      <td>False</td>\n      <td>False</td>\n      <td>False</td>\n      <td>590007</td>\n    </tr>\n    <tr>\n      <th>24136</th>\n      <td>IT1</td>\n      <td>2012</td>\n      <td>s</td>\n      <td>2921</td>\n      <td>Delfino Pescara 1936</td>\n      <td>Italy</td>\n      <td>in</td>\n      <td>164088</td>\n      <td>Luca Berardocco</td>\n      <td>21.0</td>\n      <td>...</td>\n      <td>4172</td>\n      <td>AC Pisa 1909</td>\n      <td>Italy</td>\n      <td>500000000.0</td>\n      <td>300000.0</td>\n      <td>False</td>\n      <td>False</td>\n      <td>False</td>\n      <td>False</td>\n      <td>734226</td>\n    </tr>\n    <tr>\n      <th>24654</th>\n      <td>IT1</td>\n      <td>2013</td>\n      <td>s</td>\n      <td>6574</td>\n      <td>US Sassuolo</td>\n      <td>Italy</td>\n      <td>in</td>\n      <td>163628</td>\n      <td>Riccardo Barbuti</td>\n      <td>21.0</td>\n      <td>...</td>\n      <td>5585</td>\n      <td>SS Barletta Calcio</td>\n      <td>Italy</td>\n      <td>500000000.0</td>\n      <td>200000.0</td>\n      <td>False</td>\n      <td>False</td>\n      <td>False</td>\n      <td>False</td>\n      <td>890418</td>\n    </tr>\n    <tr>\n      <th>25445</th>\n      <td>IT1</td>\n      <td>2013</td>\n      <td>s</td>\n      <td>130</td>\n      <td>Parma FC</td>\n      <td>Italy</td>\n      <td>in</td>\n      <td>89034</td>\n      <td>Riccardo Brosco</td>\n      <td>22.0</td>\n      <td>...</td>\n      <td>2921</td>\n      <td>Delfino Pescara 1936</td>\n      <td>Italy</td>\n      <td>500000000.0</td>\n      <td>500000.0</td>\n      <td>False</td>\n      <td>False</td>\n      <td>False</td>\n      <td>False</td>\n      <td>890865</td>\n    </tr>\n    <tr>\n      <th>48250</th>\n      <td>FR1</td>\n      <td>2017</td>\n      <td>s</td>\n      <td>583</td>\n      <td>Paris Saint-Germain</td>\n      <td>France</td>\n      <td>in</td>\n      <td>68290</td>\n      <td>Neymar</td>\n      <td>25.0</td>\n      <td>...</td>\n      <td>131</td>\n      <td>FC Barcelona</td>\n      <td>Spain</td>\n      <td>222000000.0</td>\n      <td>100000000.0</td>\n      <td>False</td>\n      <td>False</td>\n      <td>False</td>\n      <td>False</td>\n      <td>1866385</td>\n    </tr>\n  </tbody>\n</table>\n<p>14 rows × 23 columns</p>\n</div>"
     },
     "execution_count": 28,
     "metadata": {},
     "output_type": "execute_result"
    }
   ],
   "source": [
    "transfers_in_df[(transfers_in_df['transfer_fee_amnt'] > 220000000)]"
   ],
   "metadata": {
    "collapsed": false,
    "ExecuteTime": {
     "end_time": "2024-03-19T09:40:52.333617Z",
     "start_time": "2024-03-19T09:40:52.294756Z"
    }
   },
   "execution_count": 28
  },
  {
   "cell_type": "code",
   "outputs": [
    {
     "data": {
      "text/plain": "player_id\n74297     13\n16922     12\n59340     11\n37403     11\n54935     11\n          ..\n17443      1\n42033      1\n692        1\n61003      1\n420219     1\nName: count, Length: 12748, dtype: int64"
     },
     "metadata": {},
     "output_type": "display_data"
    },
    {
     "data": {
      "text/plain": "      league  season window  team_id               team_name team_country dir  \\\n1164     GB1    2010      s      631              Chelsea FC      England  in   \n1657     GB1    2010      w      931               Fulham FC      England  in   \n2324     GB1    2011      s      355        Bolton Wanderers      England  in   \n2742     GB1    2011      w      631              Chelsea FC      England  in   \n2957     GB1    2012      s      631              Chelsea FC      England  in   \n4588     GB1    2013      w      631              Chelsea FC      England  in   \n5035     GB1    2014      s      631              Chelsea FC      England  in   \n5995     GB1    2015      s      631              Chelsea FC      England  in   \n14414    ES1    2014      s      367          Rayo Vallecano        Spain  in   \n14945    ES1    2015      s      368              Sevilla FC        Spain  in   \n16255    ES1    2016      w      897  Deportivo de La Coruña        Spain  in   \n17589    ES1    2018      s      367          Rayo Vallecano        Spain  in   \n26063    IT1    2013      w      398                SS Lazio        Italy  in   \n44645    FR1    2011      w     2969               Dijon FCO       France  in   \n47816    FR1    2017      s     1416               Amiens SC       France  in   \n49222    FR1    2019      s     1416               Amiens SC       France  in   \n50511    FR1    2020      s      826                 RC Lens       France  in   \n50821    FR1    2021      s      826                 RC Lens       France  in   \n64354    NL1    2012      s      499          Vitesse Arnhem  Netherlands  in   \n\n       player_id  player_name  player_age  ... counter_team_id  \\\n1164       74297  Gaël Kakuta        19.0  ...             931   \n1657       74297  Gaël Kakuta        19.0  ...             631   \n2324       74297  Gaël Kakuta        20.0  ...             631   \n2742       74297  Gaël Kakuta        20.0  ...             355   \n2957       74297  Gaël Kakuta        21.0  ...            2969   \n4588       74297  Gaël Kakuta        22.0  ...             499   \n5035       74297  Gaël Kakuta        23.0  ...             398   \n5995       74297  Gaël Kakuta        24.0  ...             367   \n14414      74297  Gaël Kakuta        23.0  ...             631   \n14945      74297  Gaël Kakuta        24.0  ...             631   \n16255      74297  Gaël Kakuta        25.0  ...           36630   \n17589      74297  Gaël Kakuta        27.0  ...           36630   \n26063      74297  Gaël Kakuta        22.0  ...             631   \n44645      74297  Gaël Kakuta        20.0  ...             631   \n47816      74297  Gaël Kakuta        26.0  ...           36630   \n49222      74297  Gaël Kakuta        28.0  ...             367   \n50511      74297  Gaël Kakuta        29.0  ...            1416   \n50821      74297  Gaël Kakuta        30.0  ...            1416   \n64354      74297  Gaël Kakuta        21.0  ...             631   \n\n         counter_team_name counter_team_country transfer_fee_amnt  \\\n1164             Fulham FC              England               NaN   \n1657            Chelsea FC              England               NaN   \n2324            Chelsea FC              England               NaN   \n2742      Bolton Wanderers              England               NaN   \n2957             Dijon FCO               France               NaN   \n4588        Vitesse Arnhem          Netherlands               NaN   \n5035              SS Lazio                Italy               NaN   \n5995        Rayo Vallecano                Spain               NaN   \n14414           Chelsea FC              England               NaN   \n14945           Chelsea FC              England         6000000.0   \n16255  Hebei China Fortune                China               NaN   \n17589  Hebei China Fortune                China         2000000.0   \n26063           Chelsea FC              England               NaN   \n44645           Chelsea FC              England               NaN   \n47816  Hebei China Fortune                China               NaN   \n49222       Rayo Vallecano                Spain         3000000.0   \n50511            Amiens SC               France               NaN   \n50821            Amiens SC               France         5000000.0   \n64354           Chelsea FC              England               NaN   \n\n      market_val_amnt is_free  is_loan  is_loan_end  is_retired  transfer_id  \n1164        8000000.0   False     True         True       False       531886  \n1657        8000000.0   False     True        False       False       531885  \n2324        8000000.0   False     True        False       False       630276  \n2742        8000000.0   False     True         True       False       630277  \n2957        8000000.0   False     True         True       False       670313  \n4588        8000000.0   False     True         True       False       778173  \n5035        8000000.0   False     True         True       False      1012277  \n5995        8000000.0   False     True         True       False      1100083  \n14414       8000000.0   False     True        False       False      1100082  \n14945       8000000.0   False    False        False       False      1259969  \n16255       8000000.0   False     True        False       False      1676521  \n17589       8000000.0   False    False        False       False      2174554  \n26063       8000000.0   False     True        False       False      1012276  \n44645       8000000.0   False     True        False       False       670312  \n47816       8000000.0   False     True        False       False      1877834  \n49222       8000000.0   False    False        False       False      2597823  \n50511       8000000.0   False     True        False       False      2964672  \n50821       8000000.0   False    False        False       False      3377340  \n64354       8000000.0   False     True        False       False       778172  \n\n[19 rows x 23 columns]",
      "text/html": "<div>\n<style scoped>\n    .dataframe tbody tr th:only-of-type {\n        vertical-align: middle;\n    }\n\n    .dataframe tbody tr th {\n        vertical-align: top;\n    }\n\n    .dataframe thead th {\n        text-align: right;\n    }\n</style>\n<table border=\"1\" class=\"dataframe\">\n  <thead>\n    <tr style=\"text-align: right;\">\n      <th></th>\n      <th>league</th>\n      <th>season</th>\n      <th>window</th>\n      <th>team_id</th>\n      <th>team_name</th>\n      <th>team_country</th>\n      <th>dir</th>\n      <th>player_id</th>\n      <th>player_name</th>\n      <th>player_age</th>\n      <th>...</th>\n      <th>counter_team_id</th>\n      <th>counter_team_name</th>\n      <th>counter_team_country</th>\n      <th>transfer_fee_amnt</th>\n      <th>market_val_amnt</th>\n      <th>is_free</th>\n      <th>is_loan</th>\n      <th>is_loan_end</th>\n      <th>is_retired</th>\n      <th>transfer_id</th>\n    </tr>\n  </thead>\n  <tbody>\n    <tr>\n      <th>1164</th>\n      <td>GB1</td>\n      <td>2010</td>\n      <td>s</td>\n      <td>631</td>\n      <td>Chelsea FC</td>\n      <td>England</td>\n      <td>in</td>\n      <td>74297</td>\n      <td>Gaël Kakuta</td>\n      <td>19.0</td>\n      <td>...</td>\n      <td>931</td>\n      <td>Fulham FC</td>\n      <td>England</td>\n      <td>NaN</td>\n      <td>8000000.0</td>\n      <td>False</td>\n      <td>True</td>\n      <td>True</td>\n      <td>False</td>\n      <td>531886</td>\n    </tr>\n    <tr>\n      <th>1657</th>\n      <td>GB1</td>\n      <td>2010</td>\n      <td>w</td>\n      <td>931</td>\n      <td>Fulham FC</td>\n      <td>England</td>\n      <td>in</td>\n      <td>74297</td>\n      <td>Gaël Kakuta</td>\n      <td>19.0</td>\n      <td>...</td>\n      <td>631</td>\n      <td>Chelsea FC</td>\n      <td>England</td>\n      <td>NaN</td>\n      <td>8000000.0</td>\n      <td>False</td>\n      <td>True</td>\n      <td>False</td>\n      <td>False</td>\n      <td>531885</td>\n    </tr>\n    <tr>\n      <th>2324</th>\n      <td>GB1</td>\n      <td>2011</td>\n      <td>s</td>\n      <td>355</td>\n      <td>Bolton Wanderers</td>\n      <td>England</td>\n      <td>in</td>\n      <td>74297</td>\n      <td>Gaël Kakuta</td>\n      <td>20.0</td>\n      <td>...</td>\n      <td>631</td>\n      <td>Chelsea FC</td>\n      <td>England</td>\n      <td>NaN</td>\n      <td>8000000.0</td>\n      <td>False</td>\n      <td>True</td>\n      <td>False</td>\n      <td>False</td>\n      <td>630276</td>\n    </tr>\n    <tr>\n      <th>2742</th>\n      <td>GB1</td>\n      <td>2011</td>\n      <td>w</td>\n      <td>631</td>\n      <td>Chelsea FC</td>\n      <td>England</td>\n      <td>in</td>\n      <td>74297</td>\n      <td>Gaël Kakuta</td>\n      <td>20.0</td>\n      <td>...</td>\n      <td>355</td>\n      <td>Bolton Wanderers</td>\n      <td>England</td>\n      <td>NaN</td>\n      <td>8000000.0</td>\n      <td>False</td>\n      <td>True</td>\n      <td>True</td>\n      <td>False</td>\n      <td>630277</td>\n    </tr>\n    <tr>\n      <th>2957</th>\n      <td>GB1</td>\n      <td>2012</td>\n      <td>s</td>\n      <td>631</td>\n      <td>Chelsea FC</td>\n      <td>England</td>\n      <td>in</td>\n      <td>74297</td>\n      <td>Gaël Kakuta</td>\n      <td>21.0</td>\n      <td>...</td>\n      <td>2969</td>\n      <td>Dijon FCO</td>\n      <td>France</td>\n      <td>NaN</td>\n      <td>8000000.0</td>\n      <td>False</td>\n      <td>True</td>\n      <td>True</td>\n      <td>False</td>\n      <td>670313</td>\n    </tr>\n    <tr>\n      <th>4588</th>\n      <td>GB1</td>\n      <td>2013</td>\n      <td>w</td>\n      <td>631</td>\n      <td>Chelsea FC</td>\n      <td>England</td>\n      <td>in</td>\n      <td>74297</td>\n      <td>Gaël Kakuta</td>\n      <td>22.0</td>\n      <td>...</td>\n      <td>499</td>\n      <td>Vitesse Arnhem</td>\n      <td>Netherlands</td>\n      <td>NaN</td>\n      <td>8000000.0</td>\n      <td>False</td>\n      <td>True</td>\n      <td>True</td>\n      <td>False</td>\n      <td>778173</td>\n    </tr>\n    <tr>\n      <th>5035</th>\n      <td>GB1</td>\n      <td>2014</td>\n      <td>s</td>\n      <td>631</td>\n      <td>Chelsea FC</td>\n      <td>England</td>\n      <td>in</td>\n      <td>74297</td>\n      <td>Gaël Kakuta</td>\n      <td>23.0</td>\n      <td>...</td>\n      <td>398</td>\n      <td>SS Lazio</td>\n      <td>Italy</td>\n      <td>NaN</td>\n      <td>8000000.0</td>\n      <td>False</td>\n      <td>True</td>\n      <td>True</td>\n      <td>False</td>\n      <td>1012277</td>\n    </tr>\n    <tr>\n      <th>5995</th>\n      <td>GB1</td>\n      <td>2015</td>\n      <td>s</td>\n      <td>631</td>\n      <td>Chelsea FC</td>\n      <td>England</td>\n      <td>in</td>\n      <td>74297</td>\n      <td>Gaël Kakuta</td>\n      <td>24.0</td>\n      <td>...</td>\n      <td>367</td>\n      <td>Rayo Vallecano</td>\n      <td>Spain</td>\n      <td>NaN</td>\n      <td>8000000.0</td>\n      <td>False</td>\n      <td>True</td>\n      <td>True</td>\n      <td>False</td>\n      <td>1100083</td>\n    </tr>\n    <tr>\n      <th>14414</th>\n      <td>ES1</td>\n      <td>2014</td>\n      <td>s</td>\n      <td>367</td>\n      <td>Rayo Vallecano</td>\n      <td>Spain</td>\n      <td>in</td>\n      <td>74297</td>\n      <td>Gaël Kakuta</td>\n      <td>23.0</td>\n      <td>...</td>\n      <td>631</td>\n      <td>Chelsea FC</td>\n      <td>England</td>\n      <td>NaN</td>\n      <td>8000000.0</td>\n      <td>False</td>\n      <td>True</td>\n      <td>False</td>\n      <td>False</td>\n      <td>1100082</td>\n    </tr>\n    <tr>\n      <th>14945</th>\n      <td>ES1</td>\n      <td>2015</td>\n      <td>s</td>\n      <td>368</td>\n      <td>Sevilla FC</td>\n      <td>Spain</td>\n      <td>in</td>\n      <td>74297</td>\n      <td>Gaël Kakuta</td>\n      <td>24.0</td>\n      <td>...</td>\n      <td>631</td>\n      <td>Chelsea FC</td>\n      <td>England</td>\n      <td>6000000.0</td>\n      <td>8000000.0</td>\n      <td>False</td>\n      <td>False</td>\n      <td>False</td>\n      <td>False</td>\n      <td>1259969</td>\n    </tr>\n    <tr>\n      <th>16255</th>\n      <td>ES1</td>\n      <td>2016</td>\n      <td>w</td>\n      <td>897</td>\n      <td>Deportivo de La Coruña</td>\n      <td>Spain</td>\n      <td>in</td>\n      <td>74297</td>\n      <td>Gaël Kakuta</td>\n      <td>25.0</td>\n      <td>...</td>\n      <td>36630</td>\n      <td>Hebei China Fortune</td>\n      <td>China</td>\n      <td>NaN</td>\n      <td>8000000.0</td>\n      <td>False</td>\n      <td>True</td>\n      <td>False</td>\n      <td>False</td>\n      <td>1676521</td>\n    </tr>\n    <tr>\n      <th>17589</th>\n      <td>ES1</td>\n      <td>2018</td>\n      <td>s</td>\n      <td>367</td>\n      <td>Rayo Vallecano</td>\n      <td>Spain</td>\n      <td>in</td>\n      <td>74297</td>\n      <td>Gaël Kakuta</td>\n      <td>27.0</td>\n      <td>...</td>\n      <td>36630</td>\n      <td>Hebei China Fortune</td>\n      <td>China</td>\n      <td>2000000.0</td>\n      <td>8000000.0</td>\n      <td>False</td>\n      <td>False</td>\n      <td>False</td>\n      <td>False</td>\n      <td>2174554</td>\n    </tr>\n    <tr>\n      <th>26063</th>\n      <td>IT1</td>\n      <td>2013</td>\n      <td>w</td>\n      <td>398</td>\n      <td>SS Lazio</td>\n      <td>Italy</td>\n      <td>in</td>\n      <td>74297</td>\n      <td>Gaël Kakuta</td>\n      <td>22.0</td>\n      <td>...</td>\n      <td>631</td>\n      <td>Chelsea FC</td>\n      <td>England</td>\n      <td>NaN</td>\n      <td>8000000.0</td>\n      <td>False</td>\n      <td>True</td>\n      <td>False</td>\n      <td>False</td>\n      <td>1012276</td>\n    </tr>\n    <tr>\n      <th>44645</th>\n      <td>FR1</td>\n      <td>2011</td>\n      <td>w</td>\n      <td>2969</td>\n      <td>Dijon FCO</td>\n      <td>France</td>\n      <td>in</td>\n      <td>74297</td>\n      <td>Gaël Kakuta</td>\n      <td>20.0</td>\n      <td>...</td>\n      <td>631</td>\n      <td>Chelsea FC</td>\n      <td>England</td>\n      <td>NaN</td>\n      <td>8000000.0</td>\n      <td>False</td>\n      <td>True</td>\n      <td>False</td>\n      <td>False</td>\n      <td>670312</td>\n    </tr>\n    <tr>\n      <th>47816</th>\n      <td>FR1</td>\n      <td>2017</td>\n      <td>s</td>\n      <td>1416</td>\n      <td>Amiens SC</td>\n      <td>France</td>\n      <td>in</td>\n      <td>74297</td>\n      <td>Gaël Kakuta</td>\n      <td>26.0</td>\n      <td>...</td>\n      <td>36630</td>\n      <td>Hebei China Fortune</td>\n      <td>China</td>\n      <td>NaN</td>\n      <td>8000000.0</td>\n      <td>False</td>\n      <td>True</td>\n      <td>False</td>\n      <td>False</td>\n      <td>1877834</td>\n    </tr>\n    <tr>\n      <th>49222</th>\n      <td>FR1</td>\n      <td>2019</td>\n      <td>s</td>\n      <td>1416</td>\n      <td>Amiens SC</td>\n      <td>France</td>\n      <td>in</td>\n      <td>74297</td>\n      <td>Gaël Kakuta</td>\n      <td>28.0</td>\n      <td>...</td>\n      <td>367</td>\n      <td>Rayo Vallecano</td>\n      <td>Spain</td>\n      <td>3000000.0</td>\n      <td>8000000.0</td>\n      <td>False</td>\n      <td>False</td>\n      <td>False</td>\n      <td>False</td>\n      <td>2597823</td>\n    </tr>\n    <tr>\n      <th>50511</th>\n      <td>FR1</td>\n      <td>2020</td>\n      <td>s</td>\n      <td>826</td>\n      <td>RC Lens</td>\n      <td>France</td>\n      <td>in</td>\n      <td>74297</td>\n      <td>Gaël Kakuta</td>\n      <td>29.0</td>\n      <td>...</td>\n      <td>1416</td>\n      <td>Amiens SC</td>\n      <td>France</td>\n      <td>NaN</td>\n      <td>8000000.0</td>\n      <td>False</td>\n      <td>True</td>\n      <td>False</td>\n      <td>False</td>\n      <td>2964672</td>\n    </tr>\n    <tr>\n      <th>50821</th>\n      <td>FR1</td>\n      <td>2021</td>\n      <td>s</td>\n      <td>826</td>\n      <td>RC Lens</td>\n      <td>France</td>\n      <td>in</td>\n      <td>74297</td>\n      <td>Gaël Kakuta</td>\n      <td>30.0</td>\n      <td>...</td>\n      <td>1416</td>\n      <td>Amiens SC</td>\n      <td>France</td>\n      <td>5000000.0</td>\n      <td>8000000.0</td>\n      <td>False</td>\n      <td>False</td>\n      <td>False</td>\n      <td>False</td>\n      <td>3377340</td>\n    </tr>\n    <tr>\n      <th>64354</th>\n      <td>NL1</td>\n      <td>2012</td>\n      <td>s</td>\n      <td>499</td>\n      <td>Vitesse Arnhem</td>\n      <td>Netherlands</td>\n      <td>in</td>\n      <td>74297</td>\n      <td>Gaël Kakuta</td>\n      <td>21.0</td>\n      <td>...</td>\n      <td>631</td>\n      <td>Chelsea FC</td>\n      <td>England</td>\n      <td>NaN</td>\n      <td>8000000.0</td>\n      <td>False</td>\n      <td>True</td>\n      <td>False</td>\n      <td>False</td>\n      <td>778172</td>\n    </tr>\n  </tbody>\n</table>\n<p>19 rows × 23 columns</p>\n</div>"
     },
     "metadata": {},
     "output_type": "display_data"
    },
    {
     "name": "stdout",
     "output_type": "stream",
     "text": [
      "Average transfers (including loans) per player and season: 0.1400702372619536\n"
     ]
    }
   ],
   "source": [
    "player_transfers = transfers_in_df[(transfers_in_df['is_loan_end'] == False) & (transfers_in_df['is_retired'] == False)].player_id.value_counts()\n",
    "display(player_transfers)\n",
    "display(transfers_in_df[(transfers_in_df['player_id'] == 74297)])\n",
    "print(\"Average transfers (including loans) per player and season: {mean}\".format(mean=player_transfers.sum() / (player_transfers.size * seasonal_transfers.size)))\n"
   ],
   "metadata": {
    "collapsed": false,
    "ExecuteTime": {
     "end_time": "2024-03-19T09:58:04.096748Z",
     "start_time": "2024-03-19T09:58:04.034365Z"
    }
   },
   "execution_count": 35
  },
  {
   "cell_type": "code",
   "outputs": [
    {
     "data": {
      "text/plain": "player_id\n16922     10\n37403      8\n162961     8\n129990     7\n96754      7\n          ..\n421775     1\n457236     1\n339566     1\n331514     1\n420219     1\nName: count, Length: 11894, dtype: int64"
     },
     "metadata": {},
     "output_type": "display_data"
    },
    {
     "data": {
      "text/plain": "      league  season window  team_id            team_name team_country dir  \\\n200      GB1    2009      s      148    Tottenham Hotspur      England  in   \n370      GB1    2009      s     1020        Portsmouth FC      England  in   \n16129    ES1    2016      s      472        UD Las Palmas        Spain  in   \n17705    ES1    2018      w      131         FC Barcelona        Spain  in   \n21329    IT1    2010      s        5             AC Milan        Italy  in   \n21523    IT1    2010      s      252            Genoa CFC        Italy  in   \n22433    IT1    2011      s        5             AC Milan        Italy  in   \n28936    IT1    2015      w        5             AC Milan        Italy  in   \n32409    IT1    2018      s     6574          US Sassuolo        Italy  in   \n33061    IT1    2019      s      430       ACF Fiorentina        Italy  in   \n38133     L1    2013      s       33        FC Schalke 04      Germany  in   \n40506     L1    2017      s       24  Eintracht Frankfurt      Germany  in   \n42857     L1    2021      s       44           Hertha BSC      Germany  in   \n\n       player_id           player_name  player_age  ... counter_team_id  \\\n200        16922  Kevin-Prince Boateng        22.0  ...              16   \n370        16922  Kevin-Prince Boateng        22.0  ...             148   \n16129      16922  Kevin-Prince Boateng        29.0  ...               5   \n17705      16922  Kevin-Prince Boateng        31.0  ...            6574   \n21329      16922  Kevin-Prince Boateng        23.0  ...             252   \n21523      16922  Kevin-Prince Boateng        23.0  ...            1020   \n22433      16922  Kevin-Prince Boateng        24.0  ...             252   \n28936      16922  Kevin-Prince Boateng        28.0  ...             515   \n32409      16922  Kevin-Prince Boateng        31.0  ...              24   \n33061      16922  Kevin-Prince Boateng        32.0  ...            6574   \n38133      16922  Kevin-Prince Boateng        26.0  ...               5   \n40506      16922  Kevin-Prince Boateng        30.0  ...             472   \n42857      16922  Kevin-Prince Boateng        34.0  ...            2919   \n\n         counter_team_name counter_team_country transfer_fee_amnt  \\\n200      Borussia Dortmund              Germany               NaN   \n370      Tottenham Hotspur              England         4500000.0   \n16129             AC Milan                Italy               0.0   \n17705          US Sassuolo                Italy         1000000.0   \n21329            Genoa CFC                Italy         3000000.0   \n21523        Portsmouth FC              England         5700000.0   \n22433            Genoa CFC                Italy        10500000.0   \n28936         Without Club         Without Club               NaN   \n32409  Eintracht Frankfurt              Germany               0.0   \n33061          US Sassuolo                Italy         1500000.0   \n38133             AC Milan                Italy        10000000.0   \n40506        UD Las Palmas                Spain               0.0   \n42857             AC Monza                Italy               0.0   \n\n      market_val_amnt is_free  is_loan  is_loan_end  is_retired  transfer_id  \n200         2000000.0   False     True         True       False       255532  \n370         2000000.0   False    False        False       False       337574  \n16129       2000000.0    True    False        False       False      1483950  \n17705       2000000.0   False     True        False       False      2377385  \n21329       2000000.0   False     True        False       False       467628  \n21523       2000000.0   False    False        False       False       467627  \n22433       2000000.0   False    False        False       False       572326  \n28936       2000000.0   False    False        False       False      1396248  \n32409       2000000.0    True    False        False       False      2161758  \n33061       2000000.0   False    False        False       False      2583138  \n38133       2000000.0   False    False        False       False       940485  \n40506       2000000.0    True    False        False       False      1882098  \n42857       2000000.0    True    False        False       False      3407080  \n\n[13 rows x 23 columns]",
      "text/html": "<div>\n<style scoped>\n    .dataframe tbody tr th:only-of-type {\n        vertical-align: middle;\n    }\n\n    .dataframe tbody tr th {\n        vertical-align: top;\n    }\n\n    .dataframe thead th {\n        text-align: right;\n    }\n</style>\n<table border=\"1\" class=\"dataframe\">\n  <thead>\n    <tr style=\"text-align: right;\">\n      <th></th>\n      <th>league</th>\n      <th>season</th>\n      <th>window</th>\n      <th>team_id</th>\n      <th>team_name</th>\n      <th>team_country</th>\n      <th>dir</th>\n      <th>player_id</th>\n      <th>player_name</th>\n      <th>player_age</th>\n      <th>...</th>\n      <th>counter_team_id</th>\n      <th>counter_team_name</th>\n      <th>counter_team_country</th>\n      <th>transfer_fee_amnt</th>\n      <th>market_val_amnt</th>\n      <th>is_free</th>\n      <th>is_loan</th>\n      <th>is_loan_end</th>\n      <th>is_retired</th>\n      <th>transfer_id</th>\n    </tr>\n  </thead>\n  <tbody>\n    <tr>\n      <th>200</th>\n      <td>GB1</td>\n      <td>2009</td>\n      <td>s</td>\n      <td>148</td>\n      <td>Tottenham Hotspur</td>\n      <td>England</td>\n      <td>in</td>\n      <td>16922</td>\n      <td>Kevin-Prince Boateng</td>\n      <td>22.0</td>\n      <td>...</td>\n      <td>16</td>\n      <td>Borussia Dortmund</td>\n      <td>Germany</td>\n      <td>NaN</td>\n      <td>2000000.0</td>\n      <td>False</td>\n      <td>True</td>\n      <td>True</td>\n      <td>False</td>\n      <td>255532</td>\n    </tr>\n    <tr>\n      <th>370</th>\n      <td>GB1</td>\n      <td>2009</td>\n      <td>s</td>\n      <td>1020</td>\n      <td>Portsmouth FC</td>\n      <td>England</td>\n      <td>in</td>\n      <td>16922</td>\n      <td>Kevin-Prince Boateng</td>\n      <td>22.0</td>\n      <td>...</td>\n      <td>148</td>\n      <td>Tottenham Hotspur</td>\n      <td>England</td>\n      <td>4500000.0</td>\n      <td>2000000.0</td>\n      <td>False</td>\n      <td>False</td>\n      <td>False</td>\n      <td>False</td>\n      <td>337574</td>\n    </tr>\n    <tr>\n      <th>16129</th>\n      <td>ES1</td>\n      <td>2016</td>\n      <td>s</td>\n      <td>472</td>\n      <td>UD Las Palmas</td>\n      <td>Spain</td>\n      <td>in</td>\n      <td>16922</td>\n      <td>Kevin-Prince Boateng</td>\n      <td>29.0</td>\n      <td>...</td>\n      <td>5</td>\n      <td>AC Milan</td>\n      <td>Italy</td>\n      <td>0.0</td>\n      <td>2000000.0</td>\n      <td>True</td>\n      <td>False</td>\n      <td>False</td>\n      <td>False</td>\n      <td>1483950</td>\n    </tr>\n    <tr>\n      <th>17705</th>\n      <td>ES1</td>\n      <td>2018</td>\n      <td>w</td>\n      <td>131</td>\n      <td>FC Barcelona</td>\n      <td>Spain</td>\n      <td>in</td>\n      <td>16922</td>\n      <td>Kevin-Prince Boateng</td>\n      <td>31.0</td>\n      <td>...</td>\n      <td>6574</td>\n      <td>US Sassuolo</td>\n      <td>Italy</td>\n      <td>1000000.0</td>\n      <td>2000000.0</td>\n      <td>False</td>\n      <td>True</td>\n      <td>False</td>\n      <td>False</td>\n      <td>2377385</td>\n    </tr>\n    <tr>\n      <th>21329</th>\n      <td>IT1</td>\n      <td>2010</td>\n      <td>s</td>\n      <td>5</td>\n      <td>AC Milan</td>\n      <td>Italy</td>\n      <td>in</td>\n      <td>16922</td>\n      <td>Kevin-Prince Boateng</td>\n      <td>23.0</td>\n      <td>...</td>\n      <td>252</td>\n      <td>Genoa CFC</td>\n      <td>Italy</td>\n      <td>3000000.0</td>\n      <td>2000000.0</td>\n      <td>False</td>\n      <td>True</td>\n      <td>False</td>\n      <td>False</td>\n      <td>467628</td>\n    </tr>\n    <tr>\n      <th>21523</th>\n      <td>IT1</td>\n      <td>2010</td>\n      <td>s</td>\n      <td>252</td>\n      <td>Genoa CFC</td>\n      <td>Italy</td>\n      <td>in</td>\n      <td>16922</td>\n      <td>Kevin-Prince Boateng</td>\n      <td>23.0</td>\n      <td>...</td>\n      <td>1020</td>\n      <td>Portsmouth FC</td>\n      <td>England</td>\n      <td>5700000.0</td>\n      <td>2000000.0</td>\n      <td>False</td>\n      <td>False</td>\n      <td>False</td>\n      <td>False</td>\n      <td>467627</td>\n    </tr>\n    <tr>\n      <th>22433</th>\n      <td>IT1</td>\n      <td>2011</td>\n      <td>s</td>\n      <td>5</td>\n      <td>AC Milan</td>\n      <td>Italy</td>\n      <td>in</td>\n      <td>16922</td>\n      <td>Kevin-Prince Boateng</td>\n      <td>24.0</td>\n      <td>...</td>\n      <td>252</td>\n      <td>Genoa CFC</td>\n      <td>Italy</td>\n      <td>10500000.0</td>\n      <td>2000000.0</td>\n      <td>False</td>\n      <td>False</td>\n      <td>False</td>\n      <td>False</td>\n      <td>572326</td>\n    </tr>\n    <tr>\n      <th>28936</th>\n      <td>IT1</td>\n      <td>2015</td>\n      <td>w</td>\n      <td>5</td>\n      <td>AC Milan</td>\n      <td>Italy</td>\n      <td>in</td>\n      <td>16922</td>\n      <td>Kevin-Prince Boateng</td>\n      <td>28.0</td>\n      <td>...</td>\n      <td>515</td>\n      <td>Without Club</td>\n      <td>Without Club</td>\n      <td>NaN</td>\n      <td>2000000.0</td>\n      <td>False</td>\n      <td>False</td>\n      <td>False</td>\n      <td>False</td>\n      <td>1396248</td>\n    </tr>\n    <tr>\n      <th>32409</th>\n      <td>IT1</td>\n      <td>2018</td>\n      <td>s</td>\n      <td>6574</td>\n      <td>US Sassuolo</td>\n      <td>Italy</td>\n      <td>in</td>\n      <td>16922</td>\n      <td>Kevin-Prince Boateng</td>\n      <td>31.0</td>\n      <td>...</td>\n      <td>24</td>\n      <td>Eintracht Frankfurt</td>\n      <td>Germany</td>\n      <td>0.0</td>\n      <td>2000000.0</td>\n      <td>True</td>\n      <td>False</td>\n      <td>False</td>\n      <td>False</td>\n      <td>2161758</td>\n    </tr>\n    <tr>\n      <th>33061</th>\n      <td>IT1</td>\n      <td>2019</td>\n      <td>s</td>\n      <td>430</td>\n      <td>ACF Fiorentina</td>\n      <td>Italy</td>\n      <td>in</td>\n      <td>16922</td>\n      <td>Kevin-Prince Boateng</td>\n      <td>32.0</td>\n      <td>...</td>\n      <td>6574</td>\n      <td>US Sassuolo</td>\n      <td>Italy</td>\n      <td>1500000.0</td>\n      <td>2000000.0</td>\n      <td>False</td>\n      <td>False</td>\n      <td>False</td>\n      <td>False</td>\n      <td>2583138</td>\n    </tr>\n    <tr>\n      <th>38133</th>\n      <td>L1</td>\n      <td>2013</td>\n      <td>s</td>\n      <td>33</td>\n      <td>FC Schalke 04</td>\n      <td>Germany</td>\n      <td>in</td>\n      <td>16922</td>\n      <td>Kevin-Prince Boateng</td>\n      <td>26.0</td>\n      <td>...</td>\n      <td>5</td>\n      <td>AC Milan</td>\n      <td>Italy</td>\n      <td>10000000.0</td>\n      <td>2000000.0</td>\n      <td>False</td>\n      <td>False</td>\n      <td>False</td>\n      <td>False</td>\n      <td>940485</td>\n    </tr>\n    <tr>\n      <th>40506</th>\n      <td>L1</td>\n      <td>2017</td>\n      <td>s</td>\n      <td>24</td>\n      <td>Eintracht Frankfurt</td>\n      <td>Germany</td>\n      <td>in</td>\n      <td>16922</td>\n      <td>Kevin-Prince Boateng</td>\n      <td>30.0</td>\n      <td>...</td>\n      <td>472</td>\n      <td>UD Las Palmas</td>\n      <td>Spain</td>\n      <td>0.0</td>\n      <td>2000000.0</td>\n      <td>True</td>\n      <td>False</td>\n      <td>False</td>\n      <td>False</td>\n      <td>1882098</td>\n    </tr>\n    <tr>\n      <th>42857</th>\n      <td>L1</td>\n      <td>2021</td>\n      <td>s</td>\n      <td>44</td>\n      <td>Hertha BSC</td>\n      <td>Germany</td>\n      <td>in</td>\n      <td>16922</td>\n      <td>Kevin-Prince Boateng</td>\n      <td>34.0</td>\n      <td>...</td>\n      <td>2919</td>\n      <td>AC Monza</td>\n      <td>Italy</td>\n      <td>0.0</td>\n      <td>2000000.0</td>\n      <td>True</td>\n      <td>False</td>\n      <td>False</td>\n      <td>False</td>\n      <td>3407080</td>\n    </tr>\n  </tbody>\n</table>\n<p>13 rows × 23 columns</p>\n</div>"
     },
     "metadata": {},
     "output_type": "display_data"
    },
    {
     "name": "stdout",
     "output_type": "stream",
     "text": [
      "Average transfers (excluding loans) per player and season: 0.11629004928147353\n"
     ]
    }
   ],
   "source": [
    "\n",
    "player_transfers_wo_loans = transfers_in_df[(transfers_in_df['is_loan_end'] == False) & (transfers_in_df['is_retired'] == False) & (transfers_in_df['is_loan'] == False)].player_id.value_counts()\n",
    "display(player_transfers_wo_loans)\n",
    "display(transfers_in_df[(transfers_in_df['player_id'] == 16922)])\n",
    "print(\"Average transfers (excluding loans) per player and season: {mean}\".format(mean=player_transfers_wo_loans.sum() / (player_transfers_wo_loans.size * seasonal_transfers.size)))\n"
   ],
   "metadata": {
    "collapsed": false,
    "ExecuteTime": {
     "end_time": "2024-03-19T09:58:49.386239Z",
     "start_time": "2024-03-19T09:58:49.347156Z"
    }
   },
   "execution_count": 36
  },
  {
   "cell_type": "markdown",
   "source": [
    "## Notes\n",
    "- Average transfers (including loans) per season is 2456,46 for the seasons 2009 - 2021. Since the transfers do not have dates it's hard to check if all the years are complete.\n",
    "- The club acquiring most players (excluding loans and retirements) is Genoa CFC acquiring a total of 271 players between 2009 - 2021. The average amount of acquiring (excluding loans and retirements) per club and season is 5,72.\n",
    "- There is some error in the transfer fee amount data. According to other sources the largest transfer fee amount in history is when Neymar was sold from FC Barcelona to Paris SG for 220 million Euro. In this data set there are 13 transfers in Serie A with reported transfer fee amounts up to 550 million Euro.\n",
    "- The player with most transfers (including loans) is Gaël Kakuta from France who did 13 transfers between 2009 - 2021. The last transfer was not between clubs but going from a loan to a contract within RC Lens. The average amount of transfers (including loans) per player and season is 0,14.\n",
    "- The player with most transfers (excluding loans) is Kevin-Prince Boateng who did 10 transfers between 2009 - 2021. The average amount of transfers (excluding loans) per player and season is 0,12.\n"
   ],
   "metadata": {
    "collapsed": false
   }
  }
 ],
 "metadata": {
  "kernelspec": {
   "display_name": "env",
   "language": "python",
   "name": "python3"
  },
  "language_info": {
   "codemirror_mode": {
    "name": "ipython",
    "version": 3
   },
   "file_extension": ".py",
   "mimetype": "text/x-python",
   "name": "python",
   "nbconvert_exporter": "python",
   "pygments_lexer": "ipython3",
   "version": "3.9.6"
  }
 },
 "nbformat": 4,
 "nbformat_minor": 2
}
